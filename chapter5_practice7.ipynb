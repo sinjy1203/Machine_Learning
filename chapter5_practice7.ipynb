{
 "cells": [
  {
   "cell_type": "markdown",
   "id": "306ade58",
   "metadata": {},
   "source": [
    "# 연습문제 7번\n",
    "\n",
    "## Radial Basis Function ( RBF )"
   ]
  },
  {
   "cell_type": "markdown",
   "id": "4406ab97",
   "metadata": {},
   "source": [
    "$\\phi(x) = \\sum\\omega_i\\rho(x, c_i)$"
   ]
  },
  {
   "cell_type": "markdown",
   "id": "b7a57f5e",
   "metadata": {},
   "source": [
    "$\\rho(x, c_i) = e^{-\\beta_i||x - c_i||^2}$"
   ]
  },
  {
   "cell_type": "code",
   "execution_count": 3,
   "id": "c45b9335",
   "metadata": {},
   "outputs": [],
   "source": [
    "import numpy as np"
   ]
  },
  {
   "cell_type": "markdown",
   "id": "adb3ac35",
   "metadata": {},
   "source": [
    "### XOR problem"
   ]
  },
  {
   "cell_type": "code",
   "execution_count": 5,
   "id": "686d0cba",
   "metadata": {},
   "outputs": [],
   "source": [
    "x = np.array([[1, 0], [0, 1], [0, 0], [1, 1]])\n",
    "y = np.array([[1], [1], [0], [0]])"
   ]
  },
  {
   "cell_type": "code",
   "execution_count": 69,
   "id": "406c1145",
   "metadata": {},
   "outputs": [],
   "source": [
    "class RBF:\n",
    "    def __init__(self, q=5, lr=0.01, epochs=100):\n",
    "        self.q = q\n",
    "        self.lr = lr\n",
    "        self.epochs = epochs\n",
    "        \n",
    "    def euclid_squared(self, x_):\n",
    "        return np.sum((x_ - self.c)**2, axis=1)[np.newaxis, ...]\n",
    "        \n",
    "    def radial(self, x_):\n",
    "        return np.exp(- self.b * self.euclid_squared(x_))\n",
    "        \n",
    "    def forward(self, x_):\n",
    "        e = self.radial(x_)\n",
    "        return np.dot(self.w, e.T)\n",
    "    \n",
    "    def predict(self, x):\n",
    "        pred = []\n",
    "        for i in range(self.length):\n",
    "            pred += [self.forward(x[i:i+1])]\n",
    "        return np.concatenate(pred, axis=0)\n",
    "    \n",
    "    def loss(self, y_hat, y):\n",
    "        return np.mean((y_hat - y) ** 2)\n",
    "        \n",
    "    def update(self, x_, y_):\n",
    "        grad_w = (self.forward(x_) - y_) * self.radial(x_)\n",
    "        grad_b = (self.forward(x_) - y_) * self.w * self.radial(x_) * (- self.euclid_squared(x_))\n",
    "        \n",
    "        self.w -= self.lr * grad_w\n",
    "        self.b -= self.lr * grad_b\n",
    "    \n",
    "    def fit(self, x, y):\n",
    "        self.length = len(x)\n",
    "        \n",
    "        self.w = np.random.randn(1, self.q)\n",
    "        self.b = np.random.randn(1, self.q)\n",
    "        self.c = np.random.randn(self.q, x.shape[-1])\n",
    "        \n",
    "        for epoch in range(1, self.epochs+1):\n",
    "            for i in range(self.length):\n",
    "                x_, y_ = x[i:i+1], y[i:i+1]\n",
    "                self.update(x_, y_)\n",
    "                \n",
    "            if epoch % 1000 == 0:\n",
    "                pred = self.predict(x)\n",
    "                loss = self.loss(pred, y)\n",
    "                print(\"EPOCH: {:04d} | LOSS: {:.4f}\".format(epoch, loss))\n",
    "            "
   ]
  },
  {
   "cell_type": "code",
   "execution_count": 72,
   "id": "95158e43",
   "metadata": {},
   "outputs": [
    {
     "name": "stdout",
     "output_type": "stream",
     "text": [
      "EPOCH: 1000 | LOSS: 0.0561\n",
      "EPOCH: 2000 | LOSS: 0.0298\n",
      "EPOCH: 3000 | LOSS: 0.0205\n",
      "EPOCH: 4000 | LOSS: 0.0157\n",
      "EPOCH: 5000 | LOSS: 0.0129\n",
      "EPOCH: 6000 | LOSS: 0.0110\n",
      "EPOCH: 7000 | LOSS: 0.0096\n",
      "EPOCH: 8000 | LOSS: 0.0085\n",
      "EPOCH: 9000 | LOSS: 0.0077\n",
      "EPOCH: 10000 | LOSS: 0.0071\n"
     ]
    }
   ],
   "source": [
    "model = RBF(epochs=10000, lr=0.01)\n",
    "model.fit(x, y)"
   ]
  },
  {
   "cell_type": "code",
   "execution_count": 73,
   "id": "0da88f59",
   "metadata": {},
   "outputs": [
    {
     "data": {
      "text/plain": [
       "array([[0.99167005],\n",
       "       [0.949839  ],\n",
       "       [0.0971283 ],\n",
       "       [0.12735455]])"
      ]
     },
     "execution_count": 73,
     "metadata": {},
     "output_type": "execute_result"
    }
   ],
   "source": [
    "model.predict(x)"
   ]
  }
 ],
 "metadata": {
  "kernelspec": {
   "display_name": "machine-learning",
   "language": "python",
   "name": "machine-learning"
  },
  "language_info": {
   "codemirror_mode": {
    "name": "ipython",
    "version": 3
   },
   "file_extension": ".py",
   "mimetype": "text/x-python",
   "name": "python",
   "nbconvert_exporter": "python",
   "pygments_lexer": "ipython3",
   "version": "3.7.11"
  }
 },
 "nbformat": 4,
 "nbformat_minor": 5
}
