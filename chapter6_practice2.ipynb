{
 "cells": [
  {
   "cell_type": "markdown",
   "id": "2d2c76e0",
   "metadata": {},
   "source": [
    "# 연습문제 2번\n",
    "\n",
    "## SVM  Support Vector Machine\n",
    "\n",
    "## linear kernel, gauss kernel"
   ]
  },
  {
   "cell_type": "markdown",
   "id": "fef52fcc",
   "metadata": {},
   "source": [
    "### load data 3.0a"
   ]
  },
  {
   "cell_type": "code",
   "execution_count": 24,
   "id": "4780d2c6",
   "metadata": {},
   "outputs": [],
   "source": [
    "import numpy as np\n",
    "data_density = [0.697, 0.774, 0.634, 0.608, 0.556, 0.403, 0.481, 0.437, 0.666, 0.243, 0.245, 0.343, 0.639, 0.657, 0.360, 0.593, 0.719]\n",
    "data_sugar = [0.460, 0.376, 0.264, 0.318, 0.215, 0.237, 0.149, 0.211, 0.091, 0.267, 0.057, 0.099, 0.161, 0.198, 0.370, 0.042, 0.103]\n",
    "\n",
    "data_density = np.array(data_density)[..., np.newaxis]\n",
    "data_sugar = np.array(data_sugar)[..., np.newaxis]\n",
    "\n",
    "x = np.concatenate((data_density, data_sugar), axis=1)\n",
    "\n",
    "y = np.concatenate((np.ones((8, )), np.zeros((9))))\n",
    "# y = label[..., np.newaxis]"
   ]
  },
  {
   "cell_type": "code",
   "execution_count": 25,
   "id": "9a9d6c6b",
   "metadata": {},
   "outputs": [
    {
     "data": {
      "text/plain": [
       "(array([[0.697, 0.46 ],\n",
       "        [0.774, 0.376],\n",
       "        [0.634, 0.264],\n",
       "        [0.608, 0.318],\n",
       "        [0.556, 0.215],\n",
       "        [0.403, 0.237],\n",
       "        [0.481, 0.149],\n",
       "        [0.437, 0.211],\n",
       "        [0.666, 0.091],\n",
       "        [0.243, 0.267],\n",
       "        [0.245, 0.057],\n",
       "        [0.343, 0.099],\n",
       "        [0.639, 0.161],\n",
       "        [0.657, 0.198],\n",
       "        [0.36 , 0.37 ],\n",
       "        [0.593, 0.042],\n",
       "        [0.719, 0.103]]),\n",
       " array([1., 1., 1., 1., 1., 1., 1., 1., 0., 0., 0., 0., 0., 0., 0., 0., 0.]))"
      ]
     },
     "execution_count": 25,
     "metadata": {},
     "output_type": "execute_result"
    }
   ],
   "source": [
    "x, y"
   ]
  },
  {
   "cell_type": "markdown",
   "id": "5d8fbd3a",
   "metadata": {},
   "source": [
    "### linear kernel"
   ]
  },
  {
   "cell_type": "code",
   "execution_count": 40,
   "id": "d510f109",
   "metadata": {},
   "outputs": [
    {
     "data": {
      "text/plain": [
       "SVC(C=100, kernel='linear')"
      ]
     },
     "execution_count": 40,
     "metadata": {},
     "output_type": "execute_result"
    }
   ],
   "source": [
    "from sklearn import svm\n",
    "\n",
    "linear_svc = svm.SVC(kernel='linear', C=100)\n",
    "linear_svc.fit(x, y)"
   ]
  },
  {
   "cell_type": "code",
   "execution_count": 43,
   "id": "5d0b59cc",
   "metadata": {},
   "outputs": [
    {
     "data": {
      "text/plain": [
       "array([ 8,  9, 11, 12, 13, 14, 16,  2,  3,  4,  5,  6,  7])"
      ]
     },
     "execution_count": 43,
     "metadata": {},
     "output_type": "execute_result"
    }
   ],
   "source": [
    "linear_svc.support_"
   ]
  },
  {
   "cell_type": "code",
   "execution_count": 47,
   "id": "7ea50e77",
   "metadata": {},
   "outputs": [
    {
     "data": {
      "image/png": "[encoded data removed]",
      "text/plain": [
       "<Figure size 432x288 with 1 Axes>"
      ]
     },
     "metadata": {
      "needs_background": "light"
     },
     "output_type": "display_data"
    }
   ],
   "source": [
    "import matplotlib.pyplot as plt\n",
    "import copy\n",
    "\n",
    "coef = linear_svc.coef_[0]\n",
    "intercept = linear_svc.intercept_[0]\n",
    "c = copy.deepcopy(y)\n",
    "for i in linear_svc.support_:\n",
    "    c[i] = 2\n",
    "\n",
    "plt.scatter([x1[0] for x1 in x], [x2[1] for x2 in x], c=c)\n",
    "xmin, xmax = plt.xlim()\n",
    "ymin, ymax = plt.ylim()\n",
    "\n",
    "\n",
    "x_plot = np.linspace(xmin, xmax)\n",
    "plt.plot(x_plot, -(x_plot * coef[0] + intercept) / coef[1])\n",
    "plt.show()"
   ]
  },
  {
   "cell_type": "markdown",
   "id": "d36a8380",
   "metadata": {},
   "source": [
    "### gauss kerenl ( rbf kernel )"
   ]
  },
  {
   "cell_type": "code",
   "execution_count": 50,
   "id": "b5fa2703",
   "metadata": {},
   "outputs": [
    {
     "data": {
      "text/plain": [
       "SVC(C=100)"
      ]
     },
     "execution_count": 50,
     "metadata": {},
     "output_type": "execute_result"
    }
   ],
   "source": [
    "rbf_svc = svm.SVC(C=100, kernel='rbf')\n",
    "rbf_svc.fit(x, y)"
   ]
  },
  {
   "cell_type": "code",
   "execution_count": 52,
   "id": "f6f6311c",
   "metadata": {},
   "outputs": [
    {
     "data": {
      "image/png": "[encoded data removed]",
      "text/plain": [
       "<Figure size 432x288 with 1 Axes>"
      ]
     },
     "metadata": {
      "needs_background": "light"
     },
     "output_type": "display_data"
    }
   ],
   "source": [
    "c = copy.deepcopy(y)\n",
    "for i in rbf_svc.support_:\n",
    "    c[i] = 2\n",
    "\n",
    "plt.scatter([x1[0] for x1 in x], [x2[1] for x2 in x], c=c)\n",
    "plt.show()"
   ]
  }
 ],
 "metadata": {
  "kernelspec": {
   "display_name": "machine-learning",
   "language": "python",
   "name": "machine-learning"
  },
  "language_info": {
   "codemirror_mode": {
    "name": "ipython",
    "version": 3
   },
   "file_extension": ".py",
   "mimetype": "text/x-python",
   "name": "python",
   "nbconvert_exporter": "python",
   "pygments_lexer": "ipython3",
   "version": "3.7.11"
  }
 },
 "nbformat": 4,
 "nbformat_minor": 5
}
