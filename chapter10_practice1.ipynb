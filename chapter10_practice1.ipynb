{
 "cells": [
  {
   "cell_type": "markdown",
   "id": "b14065ba",
   "metadata": {},
   "source": [
    "# 연습문제 1번\n",
    "\n",
    "## k-Nearest Neighbor  kNN"
   ]
  },
  {
   "cell_type": "markdown",
   "id": "5c906066",
   "metadata": {},
   "source": [
    "### load data 3.0a"
   ]
  },
  {
   "cell_type": "code",
   "execution_count": 1,
   "id": "1b8b082c",
   "metadata": {},
   "outputs": [],
   "source": [
    "import numpy as np\n",
    "data_density = [0.697, 0.774, 0.634, 0.608, 0.556, 0.403, 0.481, 0.437, 0.666, 0.243, 0.245, 0.343, 0.639, 0.657, 0.360, 0.593, 0.719]\n",
    "data_sugar = [0.460, 0.376, 0.264, 0.318, 0.215, 0.237, 0.149, 0.211, 0.091, 0.267, 0.057, 0.099, 0.161, 0.198, 0.370, 0.042, 0.103]\n",
    "\n",
    "data_density = np.array(data_density)[..., np.newaxis]\n",
    "data_sugar = np.array(data_sugar)[..., np.newaxis]\n",
    "\n",
    "x = np.concatenate((data_density, data_sugar), axis=1)\n",
    "\n",
    "y = np.concatenate((np.ones((8, )), np.zeros((9))))"
   ]
  },
  {
   "cell_type": "code",
   "execution_count": 2,
   "id": "ae5e4131",
   "metadata": {},
   "outputs": [
    {
     "data": {
      "text/plain": [
       "(array([[0.697, 0.46 ],\n",
       "        [0.774, 0.376],\n",
       "        [0.634, 0.264],\n",
       "        [0.608, 0.318],\n",
       "        [0.556, 0.215],\n",
       "        [0.403, 0.237],\n",
       "        [0.481, 0.149],\n",
       "        [0.437, 0.211],\n",
       "        [0.666, 0.091],\n",
       "        [0.243, 0.267],\n",
       "        [0.245, 0.057],\n",
       "        [0.343, 0.099],\n",
       "        [0.639, 0.161],\n",
       "        [0.657, 0.198],\n",
       "        [0.36 , 0.37 ],\n",
       "        [0.593, 0.042],\n",
       "        [0.719, 0.103]]),\n",
       " array([1., 1., 1., 1., 1., 1., 1., 1., 0., 0., 0., 0., 0., 0., 0., 0., 0.]))"
      ]
     },
     "execution_count": 2,
     "metadata": {},
     "output_type": "execute_result"
    }
   ],
   "source": [
    "x, y"
   ]
  },
  {
   "cell_type": "markdown",
   "id": "0f02353f",
   "metadata": {},
   "source": [
    "### decision tree"
   ]
  },
  {
   "cell_type": "code",
   "execution_count": 3,
   "id": "7c5bb431",
   "metadata": {},
   "outputs": [
    {
     "data": {
      "text/plain": [
       "DecisionTreeClassifier()"
      ]
     },
     "execution_count": 3,
     "metadata": {},
     "output_type": "execute_result"
    }
   ],
   "source": [
    "from sklearn.tree import DecisionTreeClassifier\n",
    "\n",
    "decisiontree_clf = DecisionTreeClassifier()\n",
    "decisiontree_clf.fit(x, y)"
   ]
  },
  {
   "cell_type": "code",
   "execution_count": 4,
   "id": "425c6238",
   "metadata": {},
   "outputs": [
    {
     "data": {
      "text/plain": [
       "1.0"
      ]
     },
     "execution_count": 4,
     "metadata": {},
     "output_type": "execute_result"
    }
   ],
   "source": [
    "decisiontree_clf.score(x, y)"
   ]
  },
  {
   "cell_type": "markdown",
   "id": "0eb45e65",
   "metadata": {},
   "source": [
    "### kNN "
   ]
  },
  {
   "cell_type": "code",
   "execution_count": 5,
   "id": "ce5373cc",
   "metadata": {},
   "outputs": [
    {
     "data": {
      "text/plain": [
       "KNeighborsClassifier()"
      ]
     },
     "execution_count": 5,
     "metadata": {},
     "output_type": "execute_result"
    }
   ],
   "source": [
    "from sklearn.neighbors import KNeighborsClassifier\n",
    "\n",
    "knn_clf = KNeighborsClassifier()\n",
    "knn_clf.fit(x, y)"
   ]
  },
  {
   "cell_type": "code",
   "execution_count": 6,
   "id": "b6049130",
   "metadata": {},
   "outputs": [
    {
     "data": {
      "text/plain": [
       "0.8823529411764706"
      ]
     },
     "execution_count": 6,
     "metadata": {},
     "output_type": "execute_result"
    }
   ],
   "source": [
    "knn_clf.score(x, y)"
   ]
  },
  {
   "cell_type": "markdown",
   "id": "c6ba7ed7",
   "metadata": {},
   "source": [
    "### visualize"
   ]
  },
  {
   "cell_type": "code",
   "execution_count": 8,
   "id": "ae7c0a6b",
   "metadata": {},
   "outputs": [
    {
     "data": {
      "image/png": "[encoded data removed]",
      "text/plain": [
       "<Figure size 432x288 with 2 Axes>"
      ]
     },
     "metadata": {},
     "output_type": "display_data"
    }
   ],
   "source": [
    "import mglearn\n",
    "import matplotlib.pyplot as plt\n",
    "\n",
    "plt.subplot(121)\n",
    "plt.title('decision tree')\n",
    "mglearn.plots.plot_2d_classification(decisiontree_clf, x, alpha=0.5)\n",
    "mglearn.discrete_scatter(x[:, 0], x[:, 1], y)\n",
    "plt.legend()\n",
    "\n",
    "plt.subplot(122)\n",
    "plt.title('knn')\n",
    "mglearn.plots.plot_2d_classification(knn_clf, x, alpha=0.5)\n",
    "mglearn.discrete_scatter(x[:, 0], x[:, 1], y)\n",
    "plt.legend()\n",
    "\n",
    "plt.show()"
   ]
  }
 ],
 "metadata": {
  "kernelspec": {
   "display_name": "machine-learning",
   "language": "python",
   "name": "machine-learning"
  },
  "language_info": {
   "codemirror_mode": {
    "name": "ipython",
    "version": 3
   },
   "file_extension": ".py",
   "mimetype": "text/x-python",
   "name": "python",
   "nbconvert_exporter": "python",
   "pygments_lexer": "ipython3",
   "version": "3.7.11"
  }
 },
 "nbformat": 4,
 "nbformat_minor": 5
}
