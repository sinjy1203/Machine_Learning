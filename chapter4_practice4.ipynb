{
 "cells": [
  {
   "cell_type": "markdown",
   "id": "fd7de35d",
   "metadata": {},
   "source": [
    "# 연습문제 4번\n",
    "\n",
    "## Decision Tree ,  Gini index ,  pruning  "
   ]
  },
  {
   "cell_type": "code",
   "execution_count": 1,
   "id": "6522af9c",
   "metadata": {},
   "outputs": [],
   "source": [
    "import numpy as np\n",
    "import pandas as pd\n",
    "from pathlib import Path\n",
    "\n",
    "data_dir = Path('./data/chapter4_dataset.csv')\n",
    "df = pd.read_csv(data_dir)\n",
    "df = df.drop(['density', 'sugar_ratio'], axis=1)"
   ]
  },
  {
   "cell_type": "code",
   "execution_count": 2,
   "id": "1fa1beae",
   "metadata": {},
   "outputs": [],
   "source": [
    "train_idx = [1, 2, 3, 6, 7, 10, 14, 15, 16, 17]\n",
    "test_idx = [4, 5, 8, 9, 11, 12, 13]"
   ]
  },
  {
   "cell_type": "code",
   "execution_count": 3,
   "id": "4592469d",
   "metadata": {},
   "outputs": [],
   "source": [
    "train = df[np.isin(df['Idx'], train_idx)]\n",
    "test = df[np.isin(df['Idx'], test_idx)]"
   ]
  },
  {
   "cell_type": "code",
   "execution_count": 4,
   "id": "1c4bb67b",
   "metadata": {},
   "outputs": [],
   "source": [
    "train = train.drop(['Idx'], axis=1)\n",
    "test = test.drop(['Idx'], axis=1)"
   ]
  },
  {
   "cell_type": "markdown",
   "id": "bbc90633",
   "metadata": {},
   "source": [
    "## custom Decision Tree"
   ]
  },
  {
   "cell_type": "markdown",
   "id": "c45927a0",
   "metadata": {},
   "source": [
    "### training data"
   ]
  },
  {
   "cell_type": "code",
   "execution_count": 6,
   "id": "4efcb78a",
   "metadata": {},
   "outputs": [],
   "source": [
    "class Node:\n",
    "    def __init__(self, label=None):\n",
    "        self.feature_name = None\n",
    "        \n",
    "        self.feature_val_lst = []\n",
    "        self.child_node_lst = []\n",
    "        \n",
    "        self.label = label"
   ]
  },
  {
   "cell_type": "code",
   "execution_count": 28,
   "id": "ddb6c492",
   "metadata": {},
   "outputs": [],
   "source": [
    "import math\n",
    "\n",
    "def AllEqual(D, A):\n",
    "    for att in A:\n",
    "        if len(D[att].unique()) > 1:\n",
    "            return False\n",
    "    return True\n",
    "\n",
    "def Gini(D):\n",
    "    gini = 1\n",
    "    length = len(D)\n",
    "    \n",
    "    for count in D['label'].value_counts():\n",
    "        p = count / length\n",
    "        gini -= p * p\n",
    "    return gini\n",
    "\n",
    "def Gini_index(D, a):\n",
    "    gain = 0\n",
    "    length = len(D)\n",
    "    \n",
    "    for att_val in D[a].unique():\n",
    "        D_v = D[D[a] == att_val]\n",
    "        gain += Gini(D_v) * len(D_v) / length\n",
    "    \n",
    "    return gain\n",
    "        \n",
    "def BestAtt(D, A):   \n",
    "    gini_index_lst = [] # (gain, attribute)\n",
    "    \n",
    "    for att in A:\n",
    "        gini_index = Gini_index(D, att)\n",
    "        gini_index_lst += [(gini_index, att)]\n",
    "            \n",
    "    return min(gini_index_lst, key=lambda x: x[0])\n",
    "    \n",
    "\n",
    "def TreeGenerate(D, A):  # D: data, A: 속성  A_type: set \n",
    "    node = Node()\n",
    "    \n",
    "    if len(D['label'].unique()) == 1:\n",
    "        node.label = D['label'].unique()[0]\n",
    "        return node\n",
    "    if AllEqual(D, A):\n",
    "        node.label = D['label'].value_counts().idxmax()\n",
    "        return node\n",
    "    \n",
    "    _, best_att = BestAtt(D, A)\n",
    "    \n",
    "    node.feature_name = best_att\n",
    "    \n",
    "    for att_val in D[best_att].unique():\n",
    "        D_v = D[D[best_att] == att_val]\n",
    "        node.feature_val_lst += [att_val]\n",
    "\n",
    "        if len(D_v) == 0:\n",
    "            child_node = Node(label=D['label'].value_counts().idxmax())\n",
    "            node.child_node_lst += [child_node]\n",
    "            print(1)\n",
    "        else:\n",
    "            node.child_node_lst += [TreeGenerate(D_v, A - {best_att})]\n",
    "    return node"
   ]
  },
  {
   "cell_type": "code",
   "execution_count": 29,
   "id": "63f7dd93",
   "metadata": {},
   "outputs": [],
   "source": [
    "root = TreeGenerate(train, set(train.columns) - {'label'})"
   ]
  },
  {
   "cell_type": "markdown",
   "id": "ae550763",
   "metadata": {},
   "source": [
    "### predict"
   ]
  },
  {
   "cell_type": "code",
   "execution_count": 15,
   "id": "f19a12e9",
   "metadata": {},
   "outputs": [],
   "source": [
    "def predict_tree(data, root):\n",
    "    label = root.label\n",
    "    for i in range(len(root.feature_val_lst)):\n",
    "        feature_val = root.feature_val_lst[i]\n",
    "        \n",
    "        if data[root.feature_name].values[0] == feature_val:\n",
    "            label = predict_tree(data, root.child_node_lst[i])\n",
    "            break\n",
    "    return label"
   ]
  },
  {
   "cell_type": "code",
   "execution_count": 19,
   "id": "01548f01",
   "metadata": {},
   "outputs": [],
   "source": [
    "pred_lst = []\n",
    "for i in range(len(test)):\n",
    "    pred = predict_tree(test.iloc[i:i+1], root)\n",
    "    pred_lst += [pred]"
   ]
  },
  {
   "cell_type": "code",
   "execution_count": 20,
   "id": "7639b653",
   "metadata": {},
   "outputs": [
    {
     "data": {
      "text/plain": [
       "[0, 0, 1, 1, 0, 0, 1]"
      ]
     },
     "execution_count": 20,
     "metadata": {},
     "output_type": "execute_result"
    }
   ],
   "source": [
    "pred_lst"
   ]
  },
  {
   "cell_type": "code",
   "execution_count": 25,
   "id": "eddac139",
   "metadata": {},
   "outputs": [],
   "source": [
    "acc = np.mean(np.array(pred_lst) == test['label'])"
   ]
  },
  {
   "cell_type": "code",
   "execution_count": 26,
   "id": "d8514640",
   "metadata": {},
   "outputs": [
    {
     "data": {
      "text/plain": [
       "0.42857142857142855"
      ]
     },
     "execution_count": 26,
     "metadata": {},
     "output_type": "execute_result"
    }
   ],
   "source": [
    "acc"
   ]
  },
  {
   "cell_type": "markdown",
   "id": "1fcc8bea",
   "metadata": {},
   "source": [
    "## pruning Decision Tree"
   ]
  },
  {
   "cell_type": "markdown",
   "id": "eb2529a7",
   "metadata": {},
   "source": [
    "### pre-pruning"
   ]
  },
  {
   "cell_type": "code",
   "execution_count": 86,
   "id": "9651000d",
   "metadata": {},
   "outputs": [],
   "source": [
    "class Node:\n",
    "    def __init__(self, label=None, parent_node=None):\n",
    "        self.feature_name = None\n",
    "        self.parent_node = parent_node\n",
    "        \n",
    "        self.feature_val_lst = []\n",
    "        self.child_node_lst = []\n",
    "        \n",
    "        self.label = label"
   ]
  },
  {
   "cell_type": "code",
   "execution_count": 96,
   "id": "2d188af9",
   "metadata": {},
   "outputs": [],
   "source": [
    "import math\n",
    "\n",
    "def AllEqual(D, A):\n",
    "    for att in A:\n",
    "        if len(D[att].unique()) > 1:\n",
    "            return False\n",
    "    return True\n",
    "\n",
    "def Gini(D):\n",
    "    gini = 1\n",
    "    length = len(D)\n",
    "    \n",
    "    for count in D['label'].value_counts():\n",
    "        p = count / length\n",
    "        gini -= p * p\n",
    "    return gini\n",
    "\n",
    "def Gini_index(D, a):\n",
    "    gain = 0\n",
    "    length = len(D)\n",
    "    \n",
    "    for att_val in D[a].unique():\n",
    "        D_v = D[D[a] == att_val]\n",
    "        gain += Gini(D_v) * len(D_v) / length\n",
    "    \n",
    "    return gain\n",
    "        \n",
    "def BestAtt(D, A):   \n",
    "    gini_index_lst = [] # (gain, attribute)\n",
    "    \n",
    "    for att in A:\n",
    "        gini_index = Gini_index(D, att)\n",
    "        gini_index_lst += [(gini_index, att)]\n",
    "            \n",
    "    return min(gini_index_lst, key=lambda x: x[0])\n",
    "\n",
    "def correct_count(D):\n",
    "    if D.empty:\n",
    "        return 0\n",
    "    return D['label'].value_counts().max()\n",
    "    \n",
    "\n",
    "def TreeGenerate_pre_pruning(D, A, D_test, parent_node=None):  # D: data, A: 속성  A_type: set \n",
    "    node = Node(label=D['label'].value_counts().idxmax(), parent_node=parent_node)\n",
    "    \n",
    "    if len(D['label'].unique()) == 1:\n",
    "        return node\n",
    "    \n",
    "    if AllEqual(D, A) or D_test.empty:\n",
    "        return node\n",
    "    \n",
    "    _, best_att = BestAtt(D, A)\n",
    "    \n",
    "    node.feature_name = best_att\n",
    "    D_v_lst = []\n",
    "    D_v_test_lst = []\n",
    "    \n",
    "    for att_val in D[best_att].unique():\n",
    "        D_v = D[D[best_att] == att_val]\n",
    "        D_v_lst += [D_v]\n",
    "        \n",
    "        D_v_test = D_test[D_test[best_att] == att_val]\n",
    "        D_v_test_lst += [D_v_test]\n",
    "        \n",
    "        node.feature_val_lst += [att_val]\n",
    "        \n",
    "    child_correct_sum = sum(list(map(correct_count, D_v_test_lst)))\n",
    "    if correct_count(D_test) < child_correct_sum:\n",
    "        for i in range(len(D_v_lst)):\n",
    "            node.child_node_lst += [TreeGenerate_pre_pruning(D_v_lst[i], A-{best_att}, \n",
    "                                                D_v_test_lst[i], parent_node=node)]\n",
    "    else:\n",
    "        node.feature_val_lst = []\n",
    "        node.label = D['label'].value_counts().idxmax()\n",
    "    \n",
    "    return node"
   ]
  },
  {
   "cell_type": "code",
   "execution_count": 98,
   "id": "e01dd9a2",
   "metadata": {},
   "outputs": [],
   "source": [
    "root = TreeGenerate_pre_pruning(train, set(train.columns) - {'label'}, test)"
   ]
  },
  {
   "cell_type": "code",
   "execution_count": 99,
   "id": "56652330",
   "metadata": {},
   "outputs": [
    {
     "data": {
      "text/plain": [
       "'navel'"
      ]
     },
     "execution_count": 99,
     "metadata": {},
     "output_type": "execute_result"
    }
   ],
   "source": [
    "root.child_node_lst[0].parent_node.feature_name"
   ]
  },
  {
   "cell_type": "markdown",
   "id": "c3680887",
   "metadata": {},
   "source": [
    "### predict"
   ]
  },
  {
   "cell_type": "code",
   "execution_count": 100,
   "id": "fce52ea5",
   "metadata": {},
   "outputs": [],
   "source": [
    "def predict_tree(data, root):\n",
    "    label = root.label\n",
    "    for i in range(len(root.feature_val_lst)):\n",
    "        feature_val = root.feature_val_lst[i]\n",
    "        \n",
    "        if data[root.feature_name].values[0] == feature_val:\n",
    "            label = predict_tree(data, root.child_node_lst[i])\n",
    "            break\n",
    "    return label"
   ]
  },
  {
   "cell_type": "code",
   "execution_count": 101,
   "id": "89a25015",
   "metadata": {},
   "outputs": [],
   "source": [
    "pred_lst = []\n",
    "for i in range(len(test)):\n",
    "    pred = predict_tree(test.iloc[i:i+1], root)\n",
    "    pred_lst += [pred]"
   ]
  },
  {
   "cell_type": "code",
   "execution_count": 102,
   "id": "4c798894",
   "metadata": {},
   "outputs": [],
   "source": [
    "acc = np.mean(np.array(pred_lst) == test['label'])"
   ]
  },
  {
   "cell_type": "code",
   "execution_count": 103,
   "id": "c8ec4e1e",
   "metadata": {},
   "outputs": [
    {
     "data": {
      "text/plain": [
       "0.8571428571428571"
      ]
     },
     "execution_count": 103,
     "metadata": {},
     "output_type": "execute_result"
    }
   ],
   "source": [
    "acc"
   ]
  },
  {
   "cell_type": "markdown",
   "id": "72a46e2d",
   "metadata": {},
   "source": [
    "### post-pruning"
   ]
  },
  {
   "cell_type": "code",
   "execution_count": 120,
   "id": "bd0bb5c3",
   "metadata": {},
   "outputs": [],
   "source": [
    "def correct_count_f(node, test):\n",
    "    if test.empty:\n",
    "        return 0\n",
    "    return sum(test['label'] == node.label)\n",
    "\n",
    "def post_pruning(node, test): \n",
    "    cur_node_correct_count = correct_count_f(node, test)\n",
    "    total_correct_count = 0\n",
    "#     correct_count = 0\n",
    "    \n",
    "    for i in range(len(node.child_node_lst)):\n",
    "        test_val = test[test[node.feature_name] == node.feature_val_lst[i]]\n",
    "        _, correct_count = post_pruning(node.child_node_lst[i], test_val)\n",
    "        \n",
    "        total_correct_count += correct_count\n",
    "    \n",
    "    if cur_node_correct_count > total_correct_count:\n",
    "        node.child_node_lst = []\n",
    "        node.feature_val_lst = []\n",
    "        max_correct_count = cur_node_correct_count\n",
    "    \n",
    "    else:\n",
    "        max_correct_count = total_correct_count\n",
    "        \n",
    "    return node, max_correct_count"
   ]
  },
  {
   "cell_type": "code",
   "execution_count": 121,
   "id": "9d9a543f",
   "metadata": {},
   "outputs": [],
   "source": [
    "post_pruning_root = post_pruning(root, test)"
   ]
  },
  {
   "cell_type": "markdown",
   "id": "ba07d918",
   "metadata": {},
   "source": [
    "### predict"
   ]
  },
  {
   "cell_type": "code",
   "execution_count": 122,
   "id": "ef995dac",
   "metadata": {},
   "outputs": [],
   "source": [
    "def predict_tree(data, root):\n",
    "    label = root.label\n",
    "    for i in range(len(root.feature_val_lst)):\n",
    "        feature_val = root.feature_val_lst[i]\n",
    "        \n",
    "        if data[root.feature_name].values[0] == feature_val:\n",
    "            label = predict_tree(data, root.child_node_lst[i])\n",
    "            break\n",
    "    return label"
   ]
  },
  {
   "cell_type": "code",
   "execution_count": 123,
   "id": "971b868d",
   "metadata": {},
   "outputs": [],
   "source": [
    "pred_lst = []\n",
    "for i in range(len(test)):\n",
    "    pred = predict_tree(test.iloc[i:i+1], root)\n",
    "    pred_lst += [pred]"
   ]
  },
  {
   "cell_type": "code",
   "execution_count": 124,
   "id": "78cc518d",
   "metadata": {},
   "outputs": [],
   "source": [
    "acc = np.mean(np.array(pred_lst) == test['label'])"
   ]
  },
  {
   "cell_type": "code",
   "execution_count": 125,
   "id": "8cb39324",
   "metadata": {},
   "outputs": [
    {
     "data": {
      "text/plain": [
       "0.8571428571428571"
      ]
     },
     "execution_count": 125,
     "metadata": {},
     "output_type": "execute_result"
    }
   ],
   "source": [
    "acc"
   ]
  },
  {
   "cell_type": "markdown",
   "id": "766b2163",
   "metadata": {},
   "source": [
    "## pruning한 결과가 안한 것보다 검정정확도가 높다. \n",
    "\n",
    "## pre-pruning 과 post-pruning 은 현재 데이터에선 차이가 없다."
   ]
  }
 ],
 "metadata": {
  "kernelspec": {
   "display_name": "machine-learning",
   "language": "python",
   "name": "machine-learning"
  },
  "language_info": {
   "codemirror_mode": {
    "name": "ipython",
    "version": 3
   },
   "file_extension": ".py",
   "mimetype": "text/x-python",
   "name": "python",
   "nbconvert_exporter": "python",
   "pygments_lexer": "ipython3",
   "version": "3.7.11"
  }
 },
 "nbformat": 4,
 "nbformat_minor": 5
}
