{
 "cells": [
  {
   "cell_type": "markdown",
   "metadata": {},
   "source": [
    "# 연습문제 5번\n",
    "\n",
    "## 선형판별분석 ( Linear Discriminant Analysis, LDA )"
   ]
  },
  {
   "cell_type": "markdown",
   "metadata": {},
   "source": [
    "### 데이터 준비"
   ]
  },
  {
   "cell_type": "code",
   "execution_count": 1,
   "metadata": {},
   "outputs": [],
   "source": [
    "import numpy as np\n",
    "data_density = [0.697, 0.774, 0.634, 0.608, 0.556, 0.403, 0.481, 0.437, 0.666, 0.243, 0.245, 0.343, 0.639, 0.657, 0.360, 0.593, 0.719]\n",
    "data_sugar = [0.460, 0.376, 0.264, 0.318, 0.215, 0.237, 0.149, 0.211, 0.091, 0.267, 0.057, 0.099, 0.161, 0.198, 0.370, 0.042, 0.103]"
   ]
  },
  {
   "cell_type": "code",
   "execution_count": 2,
   "metadata": {},
   "outputs": [],
   "source": [
    "data_density = np.array(data_density)[..., np.newaxis]\n",
    "data_sugar = np.array(data_sugar)[..., np.newaxis]"
   ]
  },
  {
   "cell_type": "code",
   "execution_count": 3,
   "metadata": {},
   "outputs": [],
   "source": [
    "data = np.concatenate((data_density, data_sugar), axis=1)"
   ]
  },
  {
   "cell_type": "code",
   "execution_count": 4,
   "metadata": {},
   "outputs": [
    {
     "data": {
      "text/plain": [
       "array([[0.697, 0.46 ],\n",
       "       [0.774, 0.376],\n",
       "       [0.634, 0.264],\n",
       "       [0.608, 0.318],\n",
       "       [0.556, 0.215],\n",
       "       [0.403, 0.237],\n",
       "       [0.481, 0.149],\n",
       "       [0.437, 0.211],\n",
       "       [0.666, 0.091],\n",
       "       [0.243, 0.267],\n",
       "       [0.245, 0.057],\n",
       "       [0.343, 0.099],\n",
       "       [0.639, 0.161],\n",
       "       [0.657, 0.198],\n",
       "       [0.36 , 0.37 ],\n",
       "       [0.593, 0.042],\n",
       "       [0.719, 0.103]])"
      ]
     },
     "execution_count": 4,
     "metadata": {},
     "output_type": "execute_result"
    }
   ],
   "source": [
    "data"
   ]
  },
  {
   "cell_type": "code",
   "execution_count": 5,
   "metadata": {},
   "outputs": [],
   "source": [
    "label = np.concatenate((np.ones((8, )), np.zeros((9))))"
   ]
  },
  {
   "cell_type": "code",
   "execution_count": 6,
   "metadata": {},
   "outputs": [],
   "source": [
    "y = label[..., np.newaxis]"
   ]
  },
  {
   "cell_type": "code",
   "execution_count": 7,
   "metadata": {},
   "outputs": [
    {
     "data": {
      "text/plain": [
       "array([[0.666, 0.091],\n",
       "       [0.243, 0.267],\n",
       "       [0.245, 0.057],\n",
       "       [0.343, 0.099],\n",
       "       [0.639, 0.161],\n",
       "       [0.657, 0.198],\n",
       "       [0.36 , 0.37 ],\n",
       "       [0.593, 0.042],\n",
       "       [0.719, 0.103]])"
      ]
     },
     "execution_count": 7,
     "metadata": {},
     "output_type": "execute_result"
    }
   ],
   "source": [
    "data[8:]"
   ]
  },
  {
   "cell_type": "markdown",
   "metadata": {},
   "source": [
    "### 0과 1인 라벨로 데이터 분리"
   ]
  },
  {
   "cell_type": "code",
   "execution_count": 8,
   "metadata": {},
   "outputs": [],
   "source": [
    "x_0 = data[np.squeeze((y == 0), axis=1)]\n",
    "x_1 = data[np.squeeze((y == 1), axis=1)]"
   ]
  },
  {
   "cell_type": "code",
   "execution_count": 9,
   "metadata": {},
   "outputs": [
    {
     "data": {
      "text/plain": [
       "(9, 2)"
      ]
     },
     "execution_count": 9,
     "metadata": {},
     "output_type": "execute_result"
    }
   ],
   "source": [
    "x_0.shape"
   ]
  },
  {
   "cell_type": "markdown",
   "metadata": {},
   "source": [
    "$y = w^T x$\n",
    "\n",
    "$w = S^{-1}_w (u_0 - u_1)$"
   ]
  },
  {
   "cell_type": "code",
   "execution_count": 10,
   "metadata": {},
   "outputs": [],
   "source": [
    "cov_0 = np.cov(x_0[:, 0], x_0[:, 1])\n",
    "cov_1 = np.cov(x_1[:, 0], x_1[:, 1])"
   ]
  },
  {
   "cell_type": "code",
   "execution_count": 11,
   "metadata": {},
   "outputs": [],
   "source": [
    "scat_w = cov_0 + cov_1"
   ]
  },
  {
   "cell_type": "code",
   "execution_count": 12,
   "metadata": {},
   "outputs": [
    {
     "data": {
      "text/plain": [
       "array([[0.05461072, 0.00400306],\n",
       "       [0.00400306, 0.02180534]])"
      ]
     },
     "execution_count": 12,
     "metadata": {},
     "output_type": "execute_result"
    }
   ],
   "source": [
    "scat_w"
   ]
  },
  {
   "cell_type": "markdown",
   "metadata": {},
   "source": [
    "### 특이값 분해 ( Singular Value Decomposition, SVD )\n",
    "$S_w = U \\sum V^T$\n",
    "\n",
    "$S_w^{-1} = V \\sum^{-1} U^T$"
   ]
  },
  {
   "cell_type": "code",
   "execution_count": 13,
   "metadata": {},
   "outputs": [],
   "source": [
    "U, sigma, V_t = np.linalg.svd(scat_w)"
   ]
  },
  {
   "cell_type": "code",
   "execution_count": 14,
   "metadata": {},
   "outputs": [],
   "source": [
    "sigma_mat = np.diag(sigma)"
   ]
  },
  {
   "cell_type": "code",
   "execution_count": 15,
   "metadata": {},
   "outputs": [
    {
     "data": {
      "text/plain": [
       "array([[0.05461072, 0.00400306],\n",
       "       [0.00400306, 0.02180534]])"
      ]
     },
     "execution_count": 15,
     "metadata": {},
     "output_type": "execute_result"
    }
   ],
   "source": [
    "np.dot(np.dot(U, sigma_mat), V_t)"
   ]
  },
  {
   "cell_type": "code",
   "execution_count": 16,
   "metadata": {},
   "outputs": [],
   "source": [
    "scat_w_inv = np.dot(np.dot(V_t.T, np.diag(1 / sigma)), U.T)"
   ]
  },
  {
   "cell_type": "code",
   "execution_count": 17,
   "metadata": {},
   "outputs": [
    {
     "data": {
      "text/plain": [
       "array([[18.5611992 , -3.40749703],\n",
       "       [-3.40749703, 46.48588583]])"
      ]
     },
     "execution_count": 17,
     "metadata": {},
     "output_type": "execute_result"
    }
   ],
   "source": [
    "scat_w_inv"
   ]
  },
  {
   "cell_type": "markdown",
   "metadata": {},
   "source": [
    "### numpy 라이브러리를 이용해서 구한  $S_w^{-1}$"
   ]
  },
  {
   "cell_type": "code",
   "execution_count": 18,
   "metadata": {},
   "outputs": [
    {
     "data": {
      "text/plain": [
       "array([[18.5611992 , -3.40749703],\n",
       "       [-3.40749703, 46.48588583]])"
      ]
     },
     "execution_count": 18,
     "metadata": {},
     "output_type": "execute_result"
    }
   ],
   "source": [
    "np.linalg.inv(scat_w)"
   ]
  },
  {
   "cell_type": "markdown",
   "metadata": {},
   "source": [
    "$w = S^{-1}_w (u_0 - u_1)$"
   ]
  },
  {
   "cell_type": "code",
   "execution_count": 19,
   "metadata": {},
   "outputs": [],
   "source": [
    "u_0 = np.mean(x_0, axis=0)[..., np.newaxis]\n",
    "u_1 = np.mean(x_1, axis=0)[..., np.newaxis]\n",
    "\n",
    "w = np.dot(scat_w_inv, u_0 - u_1)"
   ]
  },
  {
   "cell_type": "code",
   "execution_count": 20,
   "metadata": {},
   "outputs": [
    {
     "data": {
      "text/plain": [
       "array([[-1.01674285],\n",
       "       [-5.52422978]])"
      ]
     },
     "execution_count": 20,
     "metadata": {},
     "output_type": "execute_result"
    }
   ],
   "source": [
    "w"
   ]
  },
  {
   "cell_type": "markdown",
   "metadata": {},
   "source": [
    "### accuracy"
   ]
  },
  {
   "cell_type": "code",
   "execution_count": 21,
   "metadata": {},
   "outputs": [],
   "source": [
    "y_u0 = np.dot(w.T, u_0)\n",
    "y_u1 = np.dot(w.T, u_1)"
   ]
  },
  {
   "cell_type": "code",
   "execution_count": 22,
   "metadata": {},
   "outputs": [],
   "source": [
    "g = np.dot(data, w)"
   ]
  },
  {
   "cell_type": "code",
   "execution_count": 23,
   "metadata": {},
   "outputs": [
    {
     "data": {
      "text/plain": [
       "array([[3.58511142e+00],\n",
       "       [2.27313802e+00],\n",
       "       [5.57464138e-01],\n",
       "       [1.03735917e+00],\n",
       "       [1.57324884e-01],\n",
       "       [1.31488484e-01],\n",
       "       [1.95477784e-03],\n",
       "       [6.42889672e-02],\n",
       "       [3.11595821e-02],\n",
       "       [1.33708293e-01],\n",
       "       [6.27887176e-01],\n",
       "       [2.12276622e-01],\n",
       "       [3.33877890e-02],\n",
       "       [1.64366293e-01],\n",
       "       [1.11010673e+00],\n",
       "       [2.71889512e-01],\n",
       "       [3.17449321e-03]])"
      ]
     },
     "execution_count": 23,
     "metadata": {},
     "output_type": "execute_result"
    }
   ],
   "source": [
    "(y_u0 - g)**2"
   ]
  },
  {
   "cell_type": "code",
   "execution_count": 24,
   "metadata": {},
   "outputs": [],
   "source": [
    "square_u = np.concatenate(((y_u0 - g)**2, (y_u1 - g)**2), axis=1)"
   ]
  },
  {
   "cell_type": "code",
   "execution_count": 25,
   "metadata": {},
   "outputs": [],
   "source": [
    "y_hat = np.argmin(square_u, axis=1)"
   ]
  },
  {
   "cell_type": "code",
   "execution_count": 26,
   "metadata": {},
   "outputs": [
    {
     "data": {
      "text/plain": [
       "array([1, 1, 1, 1, 1, 0, 0, 0, 0, 0, 0, 0, 0, 1, 1, 0, 0], dtype=int64)"
      ]
     },
     "execution_count": 26,
     "metadata": {},
     "output_type": "execute_result"
    }
   ],
   "source": [
    "y_hat"
   ]
  },
  {
   "cell_type": "code",
   "execution_count": 30,
   "metadata": {},
   "outputs": [
    {
     "data": {
      "text/plain": [
       "0.7058823529411765"
      ]
     },
     "execution_count": 30,
     "metadata": {},
     "output_type": "execute_result"
    }
   ],
   "source": [
    "np.mean((y_hat == np.squeeze(y, axis=1)))"
   ]
  },
  {
   "cell_type": "markdown",
   "metadata": {},
   "source": [
    "## answer"
   ]
  },
  {
   "cell_type": "code",
   "execution_count": 31,
   "metadata": {},
   "outputs": [
    {
     "name": "stdout",
     "output_type": "stream",
     "text": [
      "[[0.42019039 0.02176328]\n",
      " [0.02176328 0.16425706]]\n"
     ]
    },
    {
     "name": "stderr",
     "output_type": "stream",
     "text": [
      "C:\\Users\\sinjy\\anaconda3\\envs\\machine_learning\\lib\\site-packages\\matplotlib\\backends\\backend_agg.py:238: RuntimeWarning: Glyph 48128 missing from current font.\n",
      "  font.set_text(s, 0.0, flags=flags)\n",
      "C:\\Users\\sinjy\\anaconda3\\envs\\machine_learning\\lib\\site-packages\\matplotlib\\backends\\backend_agg.py:238: RuntimeWarning: Glyph 46020 missing from current font.\n",
      "  font.set_text(s, 0.0, flags=flags)\n",
      "C:\\Users\\sinjy\\anaconda3\\envs\\machine_learning\\lib\\site-packages\\matplotlib\\backends\\backend_agg.py:238: RuntimeWarning: Glyph 45817 missing from current font.\n",
      "  font.set_text(s, 0.0, flags=flags)\n",
      "C:\\Users\\sinjy\\anaconda3\\envs\\machine_learning\\lib\\site-packages\\matplotlib\\backends\\backend_agg.py:238: RuntimeWarning: Glyph 53804 missing from current font.\n",
      "  font.set_text(s, 0.0, flags=flags)\n",
      "C:\\Users\\sinjy\\anaconda3\\envs\\machine_learning\\lib\\site-packages\\matplotlib\\backends\\backend_agg.py:238: RuntimeWarning: Glyph 50689 missing from current font.\n",
      "  font.set_text(s, 0.0, flags=flags)\n",
      "C:\\Users\\sinjy\\anaconda3\\envs\\machine_learning\\lib\\site-packages\\matplotlib\\backends\\backend_agg.py:238: RuntimeWarning: Glyph 54252 missing from current font.\n",
      "  font.set_text(s, 0.0, flags=flags)\n",
      "C:\\Users\\sinjy\\anaconda3\\envs\\machine_learning\\lib\\site-packages\\matplotlib\\backends\\backend_agg.py:238: RuntimeWarning: Glyph 51064 missing from current font.\n",
      "  font.set_text(s, 0.0, flags=flags)\n",
      "C:\\Users\\sinjy\\anaconda3\\envs\\machine_learning\\lib\\site-packages\\matplotlib\\backends\\backend_agg.py:238: RuntimeWarning: Glyph 53944 missing from current font.\n",
      "  font.set_text(s, 0.0, flags=flags)\n",
      "C:\\Users\\sinjy\\anaconda3\\envs\\machine_learning\\lib\\site-packages\\matplotlib\\backends\\backend_agg.py:201: RuntimeWarning: Glyph 48128 missing from current font.\n",
      "  font.set_text(s, 0, flags=flags)\n",
      "C:\\Users\\sinjy\\anaconda3\\envs\\machine_learning\\lib\\site-packages\\matplotlib\\backends\\backend_agg.py:201: RuntimeWarning: Glyph 46020 missing from current font.\n",
      "  font.set_text(s, 0, flags=flags)\n",
      "C:\\Users\\sinjy\\anaconda3\\envs\\machine_learning\\lib\\site-packages\\matplotlib\\backends\\backend_agg.py:201: RuntimeWarning: Glyph 45817 missing from current font.\n",
      "  font.set_text(s, 0, flags=flags)\n",
      "C:\\Users\\sinjy\\anaconda3\\envs\\machine_learning\\lib\\site-packages\\matplotlib\\backends\\backend_agg.py:201: RuntimeWarning: Glyph 53804 missing from current font.\n",
      "  font.set_text(s, 0, flags=flags)\n",
      "C:\\Users\\sinjy\\anaconda3\\envs\\machine_learning\\lib\\site-packages\\matplotlib\\backends\\backend_agg.py:201: RuntimeWarning: Glyph 50689 missing from current font.\n",
      "  font.set_text(s, 0, flags=flags)\n",
      "C:\\Users\\sinjy\\anaconda3\\envs\\machine_learning\\lib\\site-packages\\matplotlib\\backends\\backend_agg.py:201: RuntimeWarning: Glyph 54252 missing from current font.\n",
      "  font.set_text(s, 0, flags=flags)\n",
      "C:\\Users\\sinjy\\anaconda3\\envs\\machine_learning\\lib\\site-packages\\matplotlib\\backends\\backend_agg.py:201: RuntimeWarning: Glyph 51064 missing from current font.\n",
      "  font.set_text(s, 0, flags=flags)\n",
      "C:\\Users\\sinjy\\anaconda3\\envs\\machine_learning\\lib\\site-packages\\matplotlib\\backends\\backend_agg.py:201: RuntimeWarning: Glyph 53944 missing from current font.\n",
      "  font.set_text(s, 0, flags=flags)\n"
     ]
    },
    {
     "data": {
      "image/png": "[encoded data removed]",
      "text/plain": [
       "<Figure size 432x288 with 1 Axes>"
      ]
     },
     "metadata": {
      "needs_background": "light"
     },
     "output_type": "display_data"
    },
    {
     "name": "stdout",
     "output_type": "stream",
     "text": [
      "[[-0.14650982 -0.73871557]]\n",
      "[[1]\n",
      " [1]\n",
      " [1]\n",
      " [1]\n",
      " [1]\n",
      " [0]\n",
      " [0]\n",
      " [0]\n",
      " [0]\n",
      " [0]\n",
      " [0]\n",
      " [0]\n",
      " [0]\n",
      " [1]\n",
      " [1]\n",
      " [0]\n",
      " [0]]\n",
      "[1. 1. 1. 1. 1. 1. 1. 1. 0. 0. 0. 0. 0. 0. 0. 0. 0.]\n",
      "0.7058823529411765\n"
     ]
    }
   ],
   "source": [
    "import numpy as np\n",
    "import pandas as pd\n",
    "from matplotlib import pyplot as plt\n",
    "\n",
    "class LDA(object):\n",
    "\n",
    "    def fit(self, X_, y_, plot_=False):\n",
    "        pos = y_ == 1\n",
    "        neg = y_ == 0\n",
    "        X0 = X_[neg]\n",
    "        X1 = X_[pos]\n",
    "\n",
    "        u0 = X0.mean(0, keepdims=True)  # (1, n)\n",
    "        u1 = X1.mean(0, keepdims=True)\n",
    "\n",
    "        sw = np.dot((X0 - u0).T, X0 - u0) + np.dot((X1 - u1).T, X1 - u1)\n",
    "        print(sw)\n",
    "        w = np.dot(np.linalg.inv(sw), (u0 - u1).T).reshape(1, -1)  # (1, n)\n",
    "\n",
    "        if plot_:\n",
    "            fig, ax = plt.subplots()\n",
    "            ax.spines['right'].set_color('none')\n",
    "            ax.spines['top'].set_color('none')\n",
    "            ax.spines['left'].set_position(('data', 0))\n",
    "            ax.spines['bottom'].set_position(('data', 0))\n",
    "\n",
    "            plt.scatter(X1[:, 0], X1[:, 1], c='k', marker='o', label='good')\n",
    "            plt.scatter(X0[:, 0], X0[:, 1], c='r', marker='x', label='bad')\n",
    "\n",
    "            plt.xlabel('밀도', labelpad=1)\n",
    "            plt.ylabel('당도')\n",
    "            plt.legend(loc='upper right')\n",
    "\n",
    "            x_tmp = np.linspace(-0.05, 0.15)\n",
    "            y_tmp = x_tmp * w[0, 1] / w[0, 0]\n",
    "            plt.plot(x_tmp, y_tmp, '#808080', linewidth=1)\n",
    "\n",
    "            wu = w / np.linalg.norm(w)\n",
    "\n",
    "            \n",
    "            X0_project = np.dot(X0, np.dot(wu.T, wu))\n",
    "            plt.scatter(X0_project[:, 0], X0_project[:, 1], c='r', s=15)\n",
    "            for i in range(X0.shape[0]):\n",
    "                plt.plot([X0[i, 0], X0_project[i, 0]], [X0[i, 1], X0_project[i, 1]], '--r', linewidth=1)\n",
    "\n",
    "            X1_project = np.dot(X1, np.dot(wu.T, wu))\n",
    "            plt.scatter(X1_project[:, 0], X1_project[:, 1], c='k', s=15)\n",
    "            for i in range(X1.shape[0]):\n",
    "                plt.plot([X1[i, 0], X1_project[i, 0]], [X1[i, 1], X1_project[i, 1]], '--k', linewidth=1)\n",
    "\n",
    "            \n",
    "            u0_project = np.dot(u0, np.dot(wu.T, wu))\n",
    "            plt.scatter(u0_project[:, 0], u0_project[:, 1], c='#FF4500', s=60)\n",
    "            u1_project = np.dot(u1, np.dot(wu.T, wu))\n",
    "            plt.scatter(u1_project[:, 0], u1_project[:, 1], c='#696969', s=60)\n",
    "\n",
    "            ax.annotate(r'u0 투영 포인트',\n",
    "                        xy=(u0_project[:, 0], u0_project[:, 1]),\n",
    "                        xytext=(u0_project[:, 0] - 0.2, u0_project[:, 1] - 0.1),\n",
    "                        size=13,\n",
    "                        va=\"center\", ha=\"left\",\n",
    "                        arrowprops=dict(arrowstyle=\"->\",\n",
    "                                        color=\"k\",\n",
    "                                        )\n",
    "                        )\n",
    "\n",
    "            ax.annotate(r'u1 투영 포인트',\n",
    "                        xy=(u1_project[:, 0], u1_project[:, 1]),\n",
    "                        xytext=(u1_project[:, 0] - 0.1, u1_project[:, 1] + 0.1),\n",
    "                        size=13,\n",
    "                        va=\"center\", ha=\"left\",\n",
    "                        arrowprops=dict(arrowstyle=\"->\",\n",
    "                                        color=\"k\",\n",
    "                                        )\n",
    "                        )\n",
    "            plt.axis(\"equal\")  \n",
    "            plt.show()\n",
    "\n",
    "        self.w = w\n",
    "        self.u0 = u0\n",
    "        self.u1 = u1\n",
    "        return self\n",
    "\n",
    "    def predict(self, X):\n",
    "        project = np.dot(X, self.w.T)\n",
    "\n",
    "        wu0 = np.dot(self.w, self.u0.T)\n",
    "        wu1 = np.dot(self.w, self.u1.T)\n",
    "\n",
    "        return (np.abs(project - wu1) < np.abs(project - wu0)).astype(int)\n",
    "\n",
    "if __name__ == '__main__':\n",
    "\n",
    "#     data_path = r'C:\\Users\\hanmi\\Documents\\xiguabook\\watermelon3_0_Ch.csv'\n",
    "\n",
    "#     data = pd.read_csv(data_path).values\n",
    "\n",
    "#     X = data[:, 7:9].astype(float)\n",
    "    X = data\n",
    "    y = label\n",
    "\n",
    "#     y[y == 'yes'] = 1\n",
    "#     y[y == 'no'] = 0\n",
    "#     y = y.astype(int)\n",
    "\n",
    "    lda = LDA()\n",
    "    lda.fit(X, y, plot_=True)\n",
    "    print(lda.w)\n",
    "    print(lda.predict(X))  \n",
    "    print(y)\n",
    "    print(np.mean(np.squeeze(lda.predict(X), axis=1) == y))"
   ]
  }
 ],
 "metadata": {
  "kernelspec": {
   "display_name": "machine_learning",
   "language": "python",
   "name": "machine_learning"
  },
  "language_info": {
   "codemirror_mode": {
    "name": "ipython",
    "version": 3
   },
   "file_extension": ".py",
   "mimetype": "text/x-python",
   "name": "python",
   "nbconvert_exporter": "python",
   "pygments_lexer": "ipython3",
   "version": "3.7.9"
  }
 },
 "nbformat": 4,
 "nbformat_minor": 4
}
