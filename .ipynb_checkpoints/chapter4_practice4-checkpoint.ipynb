{
 "cells": [
  {
   "cell_type": "markdown",
   "id": "fd7de35d",
   "metadata": {},
   "source": [
    "# 연습문제 4번\n",
    "\n",
    "## Decision Tree ,  Gini index ,  pruning  "
   ]
  },
  {
   "cell_type": "code",
   "execution_count": 1,
   "id": "6522af9c",
   "metadata": {},
   "outputs": [],
   "source": [
    "import numpy as np\n",
    "import pandas as pd\n",
    "from pathlib import Path\n",
    "\n",
    "data_dir = Path('./data/chapter4_dataset.csv')\n",
    "df = pd.read_csv(data_dir)\n",
    "df = df.drop(['density', 'sugar_ratio'], axis=1)"
   ]
  },
  {
   "cell_type": "code",
   "execution_count": 2,
   "id": "1fa1beae",
   "metadata": {},
   "outputs": [],
   "source": [
    "train_idx = [1, 2, 3, 6, 7, 10, 14, 15, 16, 17]\n",
    "test_idx = [4, 5, 8, 9, 11, 12, 13]"
   ]
  },
  {
   "cell_type": "code",
   "execution_count": 3,
   "id": "4592469d",
   "metadata": {},
   "outputs": [],
   "source": [
    "train = df[np.isin(df['Idx'], train_idx)]\n",
    "test = df[np.isin(df['Idx'], test_idx)]"
   ]
  },
  {
   "cell_type": "code",
   "execution_count": 4,
   "id": "1c4bb67b",
   "metadata": {},
   "outputs": [],
   "source": [
    "train = train.drop(['Idx'], axis=1)\n",
    "test = test.drop(['Idx'], axis=1)"
   ]
  },
  {
   "cell_type": "markdown",
   "id": "bbc90633",
   "metadata": {},
   "source": [
    "## custom Decision Tree"
   ]
  },
  {
   "cell_type": "markdown",
   "id": "c45927a0",
   "metadata": {},
   "source": [
    "### training data"
   ]
  },
  {
   "cell_type": "code",
   "execution_count": 6,
   "id": "4efcb78a",
   "metadata": {},
   "outputs": [],
   "source": [
    "class Node:\n",
    "    def __init__(self, label=None):\n",
    "        self.feature_name = None\n",
    "        \n",
    "        self.feature_val_lst = []\n",
    "        self.child_node_lst = []\n",
    "        \n",
    "        self.label = label"
   ]
  },
  {
   "cell_type": "code",
   "execution_count": 28,
   "id": "ddb6c492",
   "metadata": {},
   "outputs": [],
   "source": [
    "import math\n",
    "\n",
    "def AllEqual(D, A):\n",
    "    for att in A:\n",
    "        if len(D[att].unique()) > 1:\n",
    "            return False\n",
    "    return True\n",
    "\n",
    "def Gini(D):\n",
    "    gini = 1\n",
    "    length = len(D)\n",
    "    \n",
    "    for count in D['label'].value_counts():\n",
    "        p = count / length\n",
    "        gini -= p * p\n",
    "    return gini\n",
    "\n",
    "def Gini_index(D, a):\n",
    "    gain = 0\n",
    "    length = len(D)\n",
    "    \n",
    "    for att_val in D[a].unique():\n",
    "        D_v = D[D[a] == att_val]\n",
    "        gain += Gini(D_v) * len(D_v) / length\n",
    "    \n",
    "    return gain\n",
    "        \n",
    "def BestAtt(D, A):   \n",
    "    gini_index_lst = [] # (gain, attribute)\n",
    "    \n",
    "    for att in A:\n",
    "        gini_index = Gini_index(D, att)\n",
    "        gini_index_lst += [(gini_index, att)]\n",
    "            \n",
    "    return min(gini_index_lst, key=lambda x: x[0])\n",
    "    \n",
    "\n",
    "def TreeGenerate(D, A):  # D: data, A: 속성  A_type: set \n",
    "    node = Node()\n",
    "    \n",
    "    if len(D['label'].unique()) == 1:\n",
    "        node.label = D['label'].unique()[0]\n",
    "        return node\n",
    "    if AllEqual(D, A):\n",
    "        node.label = D['label'].value_counts().idxmax()\n",
    "        return node\n",
    "    \n",
    "    _, best_att = BestAtt(D, A)\n",
    "    \n",
    "    node.feature_name = best_att\n",
    "    \n",
    "    for att_val in D[best_att].unique():\n",
    "        D_v = D[D[best_att] == att_val]\n",
    "        node.feature_val_lst += [att_val]\n",
    "\n",
    "        if len(D_v) == 0:\n",
    "            child_node = Node(label=D['label'].value_counts().idxmax())\n",
    "            node.child_node_lst += [child_node]\n",
    "            print(1)\n",
    "        else:\n",
    "            node.child_node_lst += [TreeGenerate(D_v, A - {best_att})]\n",
    "    return node"
   ]
  },
  {
   "cell_type": "code",
   "execution_count": 29,
   "id": "63f7dd93",
   "metadata": {},
   "outputs": [],
   "source": [
    "root = TreeGenerate(train, set(train.columns) - {'label'})"
   ]
  },
  {
   "cell_type": "markdown",
   "id": "ae550763",
   "metadata": {},
   "source": [
    "### predict"
   ]
  },
  {
   "cell_type": "code",
   "execution_count": 15,
   "id": "f19a12e9",
   "metadata": {},
   "outputs": [],
   "source": [
    "def predict_tree(data, root):\n",
    "    label = root.label\n",
    "    for i in range(len(root.feature_val_lst)):\n",
    "        feature_val = root.feature_val_lst[i]\n",
    "        \n",
    "        if data[root.feature_name].values[0] == feature_val:\n",
    "            label = predict_tree(data, root.child_node_lst[i])\n",
    "            break\n",
    "    return label"
   ]
  },
  {
   "cell_type": "code",
   "execution_count": 19,
   "id": "01548f01",
   "metadata": {},
   "outputs": [],
   "source": [
    "pred_lst = []\n",
    "for i in range(len(test)):\n",
    "    pred = predict_tree(test.iloc[i:i+1], root)\n",
    "    pred_lst += [pred]"
   ]
  },
  {
   "cell_type": "code",
   "execution_count": 20,
   "id": "7639b653",
   "metadata": {},
   "outputs": [
    {
     "data": {
      "text/plain": [
       "[0, 0, 1, 1, 0, 0, 1]"
      ]
     },
     "execution_count": 20,
     "metadata": {},
     "output_type": "execute_result"
    }
   ],
   "source": [
    "pred_lst"
   ]
  },
  {
   "cell_type": "code",
   "execution_count": 25,
   "id": "eddac139",
   "metadata": {},
   "outputs": [],
   "source": [
    "acc = np.mean(np.array(pred_lst) == test['label'])"
   ]
  },
  {
   "cell_type": "code",
   "execution_count": 26,
   "id": "d8514640",
   "metadata": {},
   "outputs": [
    {
     "data": {
      "text/plain": [
       "0.42857142857142855"
      ]
     },
     "execution_count": 26,
     "metadata": {},
     "output_type": "execute_result"
    }
   ],
   "source": [
    "acc"
   ]
  },
  {
   "cell_type": "markdown",
   "id": "1fcc8bea",
   "metadata": {},
   "source": [
    "## pruning Decision Tree"
   ]
  },
  {
   "cell_type": "markdown",
   "id": "eb2529a7",
   "metadata": {},
   "source": [
    "### pre-pruning"
   ]
  },
  {
   "cell_type": "code",
   "execution_count": 5,
   "id": "9651000d",
   "metadata": {},
   "outputs": [],
   "source": [
    "class Node:\n",
    "    def __init__(self, label=None):\n",
    "        self.feature_name = None\n",
    "        \n",
    "        self.feature_val_lst = []\n",
    "        self.child_node_lst = []\n",
    "        \n",
    "        self.label = label"
   ]
  },
  {
   "cell_type": "code",
   "execution_count": 46,
   "id": "2d188af9",
   "metadata": {},
   "outputs": [],
   "source": [
    "import math\n",
    "\n",
    "def AllEqual(D, A):\n",
    "    for att in A:\n",
    "        if len(D[att].unique()) > 1:\n",
    "            return False\n",
    "    return True\n",
    "\n",
    "def Gini(D):\n",
    "    gini = 1\n",
    "    length = len(D)\n",
    "    \n",
    "    for count in D['label'].value_counts():\n",
    "        p = count / length\n",
    "        gini -= p * p\n",
    "    return gini\n",
    "\n",
    "def Gini_index(D, a):\n",
    "    gain = 0\n",
    "    length = len(D)\n",
    "    \n",
    "    for att_val in D[a].unique():\n",
    "        D_v = D[D[a] == att_val]\n",
    "        gain += Gini(D_v) * len(D_v) / length\n",
    "    \n",
    "    return gain\n",
    "        \n",
    "def BestAtt(D, A):   \n",
    "    gini_index_lst = [] # (gain, attribute)\n",
    "    \n",
    "    for att in A:\n",
    "        gini_index = Gini_index(D, att)\n",
    "        gini_index_lst += [(gini_index, att)]\n",
    "            \n",
    "    return min(gini_index_lst, key=lambda x: x[0])\n",
    "\n",
    "def correct_count(D):\n",
    "    if D.empty:\n",
    "        return 0\n",
    "    return D['label'].value_counts().max()\n",
    "    \n",
    "\n",
    "def TreeGenerate_pre_pruning(D, A, D_test):  # D: data, A: 속성  A_type: set \n",
    "    node = Node()\n",
    "    \n",
    "    if len(D['label'].unique()) == 1:\n",
    "        node.label = D['label'].unique()[0]\n",
    "        return node\n",
    "    if AllEqual(D, A) or D_test.empty:\n",
    "        node.label = D['label'].value_counts().idxmax()\n",
    "        return node\n",
    "    \n",
    "    _, best_att = BestAtt(D, A)\n",
    "    \n",
    "    node.feature_name = best_att\n",
    "    D_v_lst = []\n",
    "    D_v_test_lst = []\n",
    "    \n",
    "    for att_val in D[best_att].unique():\n",
    "        D_v = D[D[best_att] == att_val]\n",
    "        D_v_lst += [D_v]\n",
    "        \n",
    "        D_v_test = D_test[D_test[best_att] == att_val]\n",
    "        D_v_test_lst += [D_v_test]\n",
    "        \n",
    "        node.feature_val_lst += [att_val]\n",
    "    child_correct_sum = sum(list(map(correct_count, D_v_test_lst)))\n",
    "    if correct_count(D) < child_correct_sum:\n",
    "        for i in len(D_v_lst):\n",
    "            node.child_node_lst += [TreeGenerate(D_v_lst[i], A-{best_att}, \n",
    "                                                D_v_test_lst[i])]\n",
    "    else:\n",
    "        node.feature_val_lst = []\n",
    "        node.label = D['label'].value_counts().idxmax()\n",
    "    \n",
    "    return node"
   ]
  },
  {
   "cell_type": "code",
   "execution_count": 13,
   "id": "e01dd9a2",
   "metadata": {},
   "outputs": [
    {
     "data": {
      "text/plain": [
       "4"
      ]
     },
     "execution_count": 13,
     "metadata": {},
     "output_type": "execute_result"
    }
   ],
   "source": [
    "test['label'].value_counts().min()"
   ]
  },
  {
   "cell_type": "code",
   "execution_count": 43,
   "id": "56652330",
   "metadata": {},
   "outputs": [],
   "source": [
    "a = test[test['label'] == 2]"
   ]
  },
  {
   "cell_type": "code",
   "execution_count": 45,
   "id": "05d2c092",
   "metadata": {},
   "outputs": [
    {
     "data": {
      "text/plain": [
       "[Empty DataFrame\n",
       " Columns: [color, root, knocks, texture, navel, touch, label]\n",
       " Index: [],\n",
       "           color            root          knocks      texture           navel  \\\n",
       " 3    dark_green         curl_up         heavily     distinct         sinking   \n",
       " 4   light_white         curl_up  little_heavily     distinct         sinking   \n",
       " 7         black  little_curl_up  little_heavily     distinct  little_sinking   \n",
       " 8         black  little_curl_up         heavily  little_blur  little_sinking   \n",
       " 10  light_white           stiff           clear         blur            even   \n",
       " 11  light_white         curl_up  little_heavily         blur            even   \n",
       " 12   dark_green  little_curl_up  little_heavily  little_blur         sinking   \n",
       " \n",
       "           touch  label  \n",
       " 3   hard_smooth      1  \n",
       " 4   hard_smooth      1  \n",
       " 7   hard_smooth      1  \n",
       " 8   hard_smooth      0  \n",
       " 10  hard_smooth      0  \n",
       " 11   soft_stick      0  \n",
       " 12  hard_smooth      0  ]"
      ]
     },
     "execution_count": 45,
     "metadata": {},
     "output_type": "execute_result"
    }
   ],
   "source": [
    "[a, test]"
   ]
  },
  {
   "cell_type": "code",
   "execution_count": 40,
   "id": "c34ee776",
   "metadata": {},
   "outputs": [
    {
     "data": {
      "text/html": [
       "<div>\n",
       "<style scoped>\n",
       "    .dataframe tbody tr th:only-of-type {\n",
       "        vertical-align: middle;\n",
       "    }\n",
       "\n",
       "    .dataframe tbody tr th {\n",
       "        vertical-align: top;\n",
       "    }\n",
       "\n",
       "    .dataframe thead th {\n",
       "        text-align: right;\n",
       "    }\n",
       "</style>\n",
       "<table border=\"1\" class=\"dataframe\">\n",
       "  <thead>\n",
       "    <tr style=\"text-align: right;\">\n",
       "      <th></th>\n",
       "      <th>color</th>\n",
       "      <th>root</th>\n",
       "      <th>knocks</th>\n",
       "      <th>texture</th>\n",
       "      <th>navel</th>\n",
       "      <th>touch</th>\n",
       "      <th>label</th>\n",
       "    </tr>\n",
       "  </thead>\n",
       "  <tbody>\n",
       "  </tbody>\n",
       "</table>\n",
       "</div>"
      ],
      "text/plain": [
       "Empty DataFrame\n",
       "Columns: [color, root, knocks, texture, navel, touch, label]\n",
       "Index: []"
      ]
     },
     "execution_count": 40,
     "metadata": {},
     "output_type": "execute_result"
    }
   ],
   "source": [
    "a[0] "
   ]
  },
  {
   "cell_type": "code",
   "execution_count": 36,
   "id": "c47a9eb7",
   "metadata": {},
   "outputs": [
    {
     "data": {
      "text/plain": [
       "nan"
      ]
     },
     "execution_count": 36,
     "metadata": {},
     "output_type": "execute_result"
    }
   ],
   "source": [
    "b"
   ]
  },
  {
   "cell_type": "code",
   "execution_count": 37,
   "id": "9b9e28ec",
   "metadata": {},
   "outputs": [
    {
     "data": {
      "text/plain": [
       "nan"
      ]
     },
     "execution_count": 37,
     "metadata": {},
     "output_type": "execute_result"
    }
   ],
   "source": [
    "sum([1, b])"
   ]
  },
  {
   "cell_type": "code",
   "execution_count": 83,
   "id": "efd5bbca",
   "metadata": {},
   "outputs": [],
   "source": [
    "import math\n",
    "\n",
    "def AllEqual(D, A):\n",
    "    for att in A:\n",
    "        if len(D[att].unique()) > 1:\n",
    "            return False\n",
    "    return True\n",
    "\n",
    "def Entropy(D):\n",
    "    ent = 0\n",
    "    length = len(D)\n",
    "    \n",
    "    for count in D['label'].value_counts():\n",
    "        p = count / length\n",
    "        ent -= p * math.log(p, 2)\n",
    "    return ent\n",
    "\n",
    "def Gain(D, a):\n",
    "    gain = Entropy(D)\n",
    "    length = len(D)\n",
    "    \n",
    "    for att_val in D[a].unique():\n",
    "        D_v = D[D[a] == att_val]\n",
    "        gain -= Entropy(D_v) * len(D_v) / length\n",
    "    \n",
    "    return gain\n",
    "        \n",
    "def BestAtt(D, A):   \n",
    "    gain_lst = [] # (gain, attribute)\n",
    "    \n",
    "    for att in A:\n",
    "        gain = Gain(D, att)\n",
    "        gain_lst += [(gain, att)]\n",
    "            \n",
    "    return max(gain_lst, key=lambda x: x[0])\n",
    "\n",
    "def correct_count(D):\n",
    "    if D.empty:\n",
    "        return 0\n",
    "    return D['label'].value_counts().max()\n",
    "    \n",
    "\n",
    "def TreeGenerate_pre_pruning(D, A, D_test):  # D: data, A: 속성  A_type: set \n",
    "    node = Node()\n",
    "    \n",
    "    if len(D['label'].unique()) == 1:\n",
    "        node.label = D['label'].unique()[0]\n",
    "        return node\n",
    "    if AllEqual(D, A) or D_test.empty:\n",
    "        node.label = D['label'].value_counts().idxmax()\n",
    "        return node\n",
    "    \n",
    "    _, best_att = BestAtt(D, A)\n",
    "    print(best_att)\n",
    "    \n",
    "    node.feature_name = best_att\n",
    "    D_v_lst = []\n",
    "    D_v_test_lst = []\n",
    "    \n",
    "    for att_val in D[best_att].unique():\n",
    "        D_v = D[D[best_att] == att_val]\n",
    "        D_v_lst += [D_v]\n",
    "        \n",
    "        D_v_test = D_test[D_test[best_att] == att_val]\n",
    "        D_v_test_lst += [D_v_test]\n",
    "        \n",
    "        node.feature_val_lst += [att_val]\n",
    "        \n",
    "    child_correct_sum = sum(list(map(correct_count, D_v_test_lst)))\n",
    "    \n",
    "    if correct_count(D_test) < child_correct_sum:\n",
    "        for i in range(len(D_v_lst)):\n",
    "            node.child_node_lst += [TreeGenerate_pre_pruning(D_v_lst[i], A-{best_att}, \n",
    "                                                D_v_test_lst[i])]\n",
    "    else:\n",
    "        node.feature_val_lst = []\n",
    "        node.label = D['label'].value_counts().idxmax()\n",
    "    \n",
    "    return node"
   ]
  },
  {
   "cell_type": "code",
   "execution_count": 84,
   "id": "c39427d5",
   "metadata": {},
   "outputs": [
    {
     "name": "stdout",
     "output_type": "stream",
     "text": [
      "navel\n",
      "root\n",
      "touch\n"
     ]
    }
   ],
   "source": [
    "root = TreeGenerate_pre_pruning(train, set(train.columns) - {'label'}, test)"
   ]
  },
  {
   "cell_type": "code",
   "execution_count": 85,
   "id": "3642b20d",
   "metadata": {},
   "outputs": [
    {
     "data": {
      "text/plain": [
       "'even'"
      ]
     },
     "execution_count": 85,
     "metadata": {},
     "output_type": "execute_result"
    }
   ],
   "source": [
    "root.feature_val_lst[2]"
   ]
  },
  {
   "cell_type": "code",
   "execution_count": 86,
   "id": "e6a0df6d",
   "metadata": {},
   "outputs": [],
   "source": [
    "root.child_node_lst[2].feature_name"
   ]
  },
  {
   "cell_type": "code",
   "execution_count": 81,
   "id": "ae2dbe20",
   "metadata": {},
   "outputs": [
    {
     "data": {
      "text/html": [
       "<div>\n",
       "<style scoped>\n",
       "    .dataframe tbody tr th:only-of-type {\n",
       "        vertical-align: middle;\n",
       "    }\n",
       "\n",
       "    .dataframe tbody tr th {\n",
       "        vertical-align: top;\n",
       "    }\n",
       "\n",
       "    .dataframe thead th {\n",
       "        text-align: right;\n",
       "    }\n",
       "</style>\n",
       "<table border=\"1\" class=\"dataframe\">\n",
       "  <thead>\n",
       "    <tr style=\"text-align: right;\">\n",
       "      <th></th>\n",
       "      <th>color</th>\n",
       "      <th>root</th>\n",
       "      <th>knocks</th>\n",
       "      <th>texture</th>\n",
       "      <th>navel</th>\n",
       "      <th>touch</th>\n",
       "      <th>label</th>\n",
       "    </tr>\n",
       "  </thead>\n",
       "  <tbody>\n",
       "    <tr>\n",
       "      <th>0</th>\n",
       "      <td>dark_green</td>\n",
       "      <td>curl_up</td>\n",
       "      <td>little_heavily</td>\n",
       "      <td>distinct</td>\n",
       "      <td>sinking</td>\n",
       "      <td>hard_smooth</td>\n",
       "      <td>1</td>\n",
       "    </tr>\n",
       "    <tr>\n",
       "      <th>1</th>\n",
       "      <td>black</td>\n",
       "      <td>curl_up</td>\n",
       "      <td>heavily</td>\n",
       "      <td>distinct</td>\n",
       "      <td>sinking</td>\n",
       "      <td>hard_smooth</td>\n",
       "      <td>1</td>\n",
       "    </tr>\n",
       "    <tr>\n",
       "      <th>2</th>\n",
       "      <td>black</td>\n",
       "      <td>curl_up</td>\n",
       "      <td>little_heavily</td>\n",
       "      <td>distinct</td>\n",
       "      <td>sinking</td>\n",
       "      <td>hard_smooth</td>\n",
       "      <td>1</td>\n",
       "    </tr>\n",
       "    <tr>\n",
       "      <th>5</th>\n",
       "      <td>dark_green</td>\n",
       "      <td>little_curl_up</td>\n",
       "      <td>little_heavily</td>\n",
       "      <td>distinct</td>\n",
       "      <td>little_sinking</td>\n",
       "      <td>soft_stick</td>\n",
       "      <td>1</td>\n",
       "    </tr>\n",
       "    <tr>\n",
       "      <th>6</th>\n",
       "      <td>black</td>\n",
       "      <td>little_curl_up</td>\n",
       "      <td>little_heavily</td>\n",
       "      <td>little_blur</td>\n",
       "      <td>little_sinking</td>\n",
       "      <td>soft_stick</td>\n",
       "      <td>1</td>\n",
       "    </tr>\n",
       "    <tr>\n",
       "      <th>9</th>\n",
       "      <td>dark_green</td>\n",
       "      <td>stiff</td>\n",
       "      <td>clear</td>\n",
       "      <td>distinct</td>\n",
       "      <td>even</td>\n",
       "      <td>soft_stick</td>\n",
       "      <td>0</td>\n",
       "    </tr>\n",
       "    <tr>\n",
       "      <th>13</th>\n",
       "      <td>light_white</td>\n",
       "      <td>little_curl_up</td>\n",
       "      <td>heavily</td>\n",
       "      <td>little_blur</td>\n",
       "      <td>sinking</td>\n",
       "      <td>hard_smooth</td>\n",
       "      <td>0</td>\n",
       "    </tr>\n",
       "    <tr>\n",
       "      <th>14</th>\n",
       "      <td>black</td>\n",
       "      <td>little_curl_up</td>\n",
       "      <td>little_heavily</td>\n",
       "      <td>distinct</td>\n",
       "      <td>little_sinking</td>\n",
       "      <td>soft_stick</td>\n",
       "      <td>0</td>\n",
       "    </tr>\n",
       "    <tr>\n",
       "      <th>15</th>\n",
       "      <td>light_white</td>\n",
       "      <td>curl_up</td>\n",
       "      <td>little_heavily</td>\n",
       "      <td>blur</td>\n",
       "      <td>even</td>\n",
       "      <td>hard_smooth</td>\n",
       "      <td>0</td>\n",
       "    </tr>\n",
       "    <tr>\n",
       "      <th>16</th>\n",
       "      <td>dark_green</td>\n",
       "      <td>curl_up</td>\n",
       "      <td>heavily</td>\n",
       "      <td>little_blur</td>\n",
       "      <td>little_sinking</td>\n",
       "      <td>hard_smooth</td>\n",
       "      <td>0</td>\n",
       "    </tr>\n",
       "  </tbody>\n",
       "</table>\n",
       "</div>"
      ],
      "text/plain": [
       "          color            root          knocks      texture           navel  \\\n",
       "0    dark_green         curl_up  little_heavily     distinct         sinking   \n",
       "1         black         curl_up         heavily     distinct         sinking   \n",
       "2         black         curl_up  little_heavily     distinct         sinking   \n",
       "5    dark_green  little_curl_up  little_heavily     distinct  little_sinking   \n",
       "6         black  little_curl_up  little_heavily  little_blur  little_sinking   \n",
       "9    dark_green           stiff           clear     distinct            even   \n",
       "13  light_white  little_curl_up         heavily  little_blur         sinking   \n",
       "14        black  little_curl_up  little_heavily     distinct  little_sinking   \n",
       "15  light_white         curl_up  little_heavily         blur            even   \n",
       "16   dark_green         curl_up         heavily  little_blur  little_sinking   \n",
       "\n",
       "          touch  label  \n",
       "0   hard_smooth      1  \n",
       "1   hard_smooth      1  \n",
       "2   hard_smooth      1  \n",
       "5    soft_stick      1  \n",
       "6    soft_stick      1  \n",
       "9    soft_stick      0  \n",
       "13  hard_smooth      0  \n",
       "14   soft_stick      0  \n",
       "15  hard_smooth      0  \n",
       "16  hard_smooth      0  "
      ]
     },
     "execution_count": 81,
     "metadata": {},
     "output_type": "execute_result"
    }
   ],
   "source": [
    "train"
   ]
  }
 ],
 "metadata": {
  "kernelspec": {
   "display_name": "machine-learning",
   "language": "python",
   "name": "machine-learning"
  },
  "language_info": {
   "codemirror_mode": {
    "name": "ipython",
    "version": 3
   },
   "file_extension": ".py",
   "mimetype": "text/x-python",
   "name": "python",
   "nbconvert_exporter": "python",
   "pygments_lexer": "ipython3",
   "version": "3.7.11"
  }
 },
 "nbformat": 4,
 "nbformat_minor": 5
}
