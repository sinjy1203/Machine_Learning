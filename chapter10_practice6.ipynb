{
 "cells": [
  {
   "cell_type": "markdown",
   "id": "10b9d4d7",
   "metadata": {},
   "source": [
    "# 연습문제 6번\n",
    "\n",
    "## Principal Component Analysis  PCA"
   ]
  },
  {
   "cell_type": "markdown",
   "id": "690a20f9",
   "metadata": {},
   "source": [
    "### load Yale image data"
   ]
  },
  {
   "cell_type": "code",
   "execution_count": 14,
   "id": "e7c3d90f",
   "metadata": {},
   "outputs": [],
   "source": [
    "import matplotlib.pyplot as plt\n",
    "import matplotlib.image as img\n",
    "from pathlib import Path\n",
    "import numpy as np\n",
    "\n",
    "yale_dir = Path('C:/Users/sinjy/jupyter_notebook/github/Machine_Learning/data/yalefaces')\n",
    "image_lst = []\n",
    "for image_dir in yale_dir.iterdir():\n",
    "    image = img.imread(image_dir)\n",
    "    image_lst += [image[np.newaxis, ...]]"
   ]
  },
  {
   "cell_type": "code",
   "execution_count": 18,
   "id": "8c40e0e0",
   "metadata": {},
   "outputs": [],
   "source": [
    "train = np.reshape(np.concatenate(image_lst), (164, -1))"
   ]
  },
  {
   "cell_type": "code",
   "execution_count": 19,
   "id": "c7cebaa3",
   "metadata": {},
   "outputs": [
    {
     "data": {
      "text/plain": [
       "(164, 77760)"
      ]
     },
     "execution_count": 19,
     "metadata": {},
     "output_type": "execute_result"
    }
   ],
   "source": [
    "train.shape"
   ]
  },
  {
   "cell_type": "markdown",
   "id": "8d489503",
   "metadata": {},
   "source": [
    "### to 20 dimension"
   ]
  },
  {
   "cell_type": "code",
   "execution_count": 22,
   "id": "dd3b7f7f",
   "metadata": {},
   "outputs": [],
   "source": [
    "from sklearn.decomposition import PCA\n",
    "\n",
    "pca = PCA(20)\n",
    "train_reduction = pca.fit_transform(train)"
   ]
  }
 ],
 "metadata": {
  "kernelspec": {
   "display_name": "machine-learning",
   "language": "python",
   "name": "machine-learning"
  },
  "language_info": {
   "codemirror_mode": {
    "name": "ipython",
    "version": 3
   },
   "file_extension": ".py",
   "mimetype": "text/x-python",
   "name": "python",
   "nbconvert_exporter": "python",
   "pygments_lexer": "ipython3",
   "version": "3.7.11"
  }
 },
 "nbformat": 4,
 "nbformat_minor": 5
}
