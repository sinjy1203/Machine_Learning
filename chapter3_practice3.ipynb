{
 "cells": [
  {
   "cell_type": "code",
   "execution_count": 1,
   "metadata": {
    "executionInfo": {
     "elapsed": 346,
     "status": "ok",
     "timestamp": 1629436250744,
     "user": {
      "displayName": "20_PF013신정열",
      "photoUrl": "",
      "userId": "17568906488684043814"
     },
     "user_tz": -540
    },
    "id": "vG2-4ZX-S8Y8"
   },
   "outputs": [],
   "source": [
    "import numpy as np\n",
    "data_density = [0.697, 0.774, 0.634, 0.608, 0.556, 0.403, 0.481, 0.437, 0.666, 0.243, 0.245, 0.343, 0.639, 0.657, 0.360, 0.593, 0.719]\n",
    "data_sugar = [0.460, 0.376, 0.264, 0.318, 0.215, 0.237, 0.149, 0.211, 0.091, 0.267, 0.057, 0.099, 0.161, 0.198, 0.370, 0.042, 0.103]"
   ]
  },
  {
   "cell_type": "code",
   "execution_count": 2,
   "metadata": {
    "executionInfo": {
     "elapsed": 7,
     "status": "ok",
     "timestamp": 1629436251835,
     "user": {
      "displayName": "20_PF013신정열",
      "photoUrl": "",
      "userId": "17568906488684043814"
     },
     "user_tz": -540
    },
    "id": "GuZzCer2UHMi"
   },
   "outputs": [],
   "source": [
    "data_density = np.array(data_density)[..., np.newaxis]\n",
    "data_sugar = np.array(data_sugar)[..., np.newaxis]"
   ]
  },
  {
   "cell_type": "code",
   "execution_count": 3,
   "metadata": {
    "executionInfo": {
     "elapsed": 8,
     "status": "ok",
     "timestamp": 1629436252950,
     "user": {
      "displayName": "20_PF013신정열",
      "photoUrl": "",
      "userId": "17568906488684043814"
     },
     "user_tz": -540
    },
    "id": "bohHhSkYUJbi"
   },
   "outputs": [],
   "source": [
    "data = np.concatenate((data_density, data_sugar), axis=1)"
   ]
  },
  {
   "cell_type": "code",
   "execution_count": 4,
   "metadata": {
    "colab": {
     "base_uri": "https://localhost:8080/"
    },
    "executionInfo": {
     "elapsed": 372,
     "status": "ok",
     "timestamp": 1629436254844,
     "user": {
      "displayName": "20_PF013신정열",
      "photoUrl": "",
      "userId": "17568906488684043814"
     },
     "user_tz": -540
    },
    "id": "qtXCCbEiU7Ia",
    "outputId": "02e8eab4-4d71-441c-ada4-0f7670a3fab9"
   },
   "outputs": [
    {
     "data": {
      "text/plain": [
       "array([[0.697, 0.46 ],\n",
       "       [0.774, 0.376],\n",
       "       [0.634, 0.264],\n",
       "       [0.608, 0.318],\n",
       "       [0.556, 0.215],\n",
       "       [0.403, 0.237],\n",
       "       [0.481, 0.149],\n",
       "       [0.437, 0.211],\n",
       "       [0.666, 0.091],\n",
       "       [0.243, 0.267],\n",
       "       [0.245, 0.057],\n",
       "       [0.343, 0.099],\n",
       "       [0.639, 0.161],\n",
       "       [0.657, 0.198],\n",
       "       [0.36 , 0.37 ],\n",
       "       [0.593, 0.042],\n",
       "       [0.719, 0.103]])"
      ]
     },
     "execution_count": 4,
     "metadata": {},
     "output_type": "execute_result"
    }
   ],
   "source": [
    "data"
   ]
  },
  {
   "cell_type": "code",
   "execution_count": 5,
   "metadata": {
    "executionInfo": {
     "elapsed": 6,
     "status": "ok",
     "timestamp": 1629433395491,
     "user": {
      "displayName": "20_PF013신정열",
      "photoUrl": "",
      "userId": "17568906488684043814"
     },
     "user_tz": -540
    },
    "id": "bMz08gEAYCy1"
   },
   "outputs": [],
   "source": [
    "x = np.concatenate((data, np.ones((17, 1))), axis=1)"
   ]
  },
  {
   "cell_type": "code",
   "execution_count": 6,
   "metadata": {
    "colab": {
     "base_uri": "https://localhost:8080/"
    },
    "executionInfo": {
     "elapsed": 10,
     "status": "ok",
     "timestamp": 1629433395983,
     "user": {
      "displayName": "20_PF013신정열",
      "photoUrl": "",
      "userId": "17568906488684043814"
     },
     "user_tz": -540
    },
    "id": "-jYSnUeyYM_t",
    "outputId": "cb294b31-07f7-4cd5-b873-f4d0d2c90840"
   },
   "outputs": [
    {
     "data": {
      "text/plain": [
       "array([[0.697, 0.46 , 1.   ],\n",
       "       [0.774, 0.376, 1.   ],\n",
       "       [0.634, 0.264, 1.   ],\n",
       "       [0.608, 0.318, 1.   ],\n",
       "       [0.556, 0.215, 1.   ],\n",
       "       [0.403, 0.237, 1.   ],\n",
       "       [0.481, 0.149, 1.   ],\n",
       "       [0.437, 0.211, 1.   ],\n",
       "       [0.666, 0.091, 1.   ],\n",
       "       [0.243, 0.267, 1.   ],\n",
       "       [0.245, 0.057, 1.   ],\n",
       "       [0.343, 0.099, 1.   ],\n",
       "       [0.639, 0.161, 1.   ],\n",
       "       [0.657, 0.198, 1.   ],\n",
       "       [0.36 , 0.37 , 1.   ],\n",
       "       [0.593, 0.042, 1.   ],\n",
       "       [0.719, 0.103, 1.   ]])"
      ]
     },
     "execution_count": 6,
     "metadata": {},
     "output_type": "execute_result"
    }
   ],
   "source": [
    "x"
   ]
  },
  {
   "cell_type": "code",
   "execution_count": 7,
   "metadata": {
    "executionInfo": {
     "elapsed": 3,
     "status": "ok",
     "timestamp": 1629433397213,
     "user": {
      "displayName": "20_PF013신정열",
      "photoUrl": "",
      "userId": "17568906488684043814"
     },
     "user_tz": -540
    },
    "id": "LbEc3EB2U8Zl"
   },
   "outputs": [],
   "source": [
    "label = np.concatenate((np.ones((8, )), np.zeros((9))))"
   ]
  },
  {
   "cell_type": "code",
   "execution_count": 8,
   "metadata": {
    "executionInfo": {
     "elapsed": 6,
     "status": "ok",
     "timestamp": 1629433397579,
     "user": {
      "displayName": "20_PF013신정열",
      "photoUrl": "",
      "userId": "17568906488684043814"
     },
     "user_tz": -540
    },
    "id": "vAAQOKXyV9st"
   },
   "outputs": [],
   "source": [
    "y = label[..., np.newaxis]"
   ]
  },
  {
   "cell_type": "code",
   "execution_count": 9,
   "metadata": {
    "executionInfo": {
     "elapsed": 5,
     "status": "ok",
     "timestamp": 1629433397985,
     "user": {
      "displayName": "20_PF013신정열",
      "photoUrl": "",
      "userId": "17568906488684043814"
     },
     "user_tz": -540
    },
    "id": "Li5CUZx_W5nj"
   },
   "outputs": [],
   "source": [
    "# w = np.concatenate((np.ones((2, 1)), np.zeros((1, 1))))\n",
    "w = np.zeros((3, 1))"
   ]
  },
  {
   "cell_type": "code",
   "execution_count": 10,
   "metadata": {
    "colab": {
     "base_uri": "https://localhost:8080/"
    },
    "executionInfo": {
     "elapsed": 9,
     "status": "ok",
     "timestamp": 1629433398659,
     "user": {
      "displayName": "20_PF013신정열",
      "photoUrl": "",
      "userId": "17568906488684043814"
     },
     "user_tz": -540
    },
    "id": "ubPJ1H1JX4nb",
    "outputId": "46e047d7-c69d-49a3-91b3-a4bb747d2e79"
   },
   "outputs": [
    {
     "data": {
      "text/plain": [
       "(3, 1)"
      ]
     },
     "execution_count": 10,
     "metadata": {},
     "output_type": "execute_result"
    }
   ],
   "source": [
    "w.shape"
   ]
  },
  {
   "cell_type": "code",
   "execution_count": 11,
   "metadata": {
    "executionInfo": {
     "elapsed": 7,
     "status": "ok",
     "timestamp": 1629433400119,
     "user": {
      "displayName": "20_PF013신정열",
      "photoUrl": "",
      "userId": "17568906488684043814"
     },
     "user_tz": -540
    },
    "id": "bkGaT43tYR51"
   },
   "outputs": [],
   "source": [
    "def sigmoid(x, w):\n",
    "    z = np.dot(x, w)\n",
    "    y = 1 / (1 + np.exp(-z))\n",
    "    return y"
   ]
  },
  {
   "cell_type": "code",
   "execution_count": 12,
   "metadata": {
    "executionInfo": {
     "elapsed": 6,
     "status": "ok",
     "timestamp": 1629433401286,
     "user": {
      "displayName": "20_PF013신정열",
      "photoUrl": "",
      "userId": "17568906488684043814"
     },
     "user_tz": -540
    },
    "id": "9nt_AVl9Xv4E"
   },
   "outputs": [],
   "source": [
    "def loss(x, w, y):\n",
    "    loss = - y * np.dot(x, w) + np.log(1 + np.exp(np.dot(x, w)))\n",
    "    return np.sum(loss)"
   ]
  },
  {
   "cell_type": "code",
   "execution_count": 13,
   "metadata": {
    "executionInfo": {
     "elapsed": 6,
     "status": "ok",
     "timestamp": 1629433402632,
     "user": {
      "displayName": "20_PF013신정열",
      "photoUrl": "",
      "userId": "17568906488684043814"
     },
     "user_tz": -540
    },
    "id": "dcAfKZDKX1oo"
   },
   "outputs": [],
   "source": [
    "def grad(x, w, y):\n",
    "    grad = - x * (y - sigmoid(x, w))\n",
    "    return np.sum(grad, axis=0)[..., np.newaxis]"
   ]
  },
  {
   "cell_type": "code",
   "execution_count": 14,
   "metadata": {
    "colab": {
     "base_uri": "https://localhost:8080/"
    },
    "executionInfo": {
     "elapsed": 9,
     "status": "ok",
     "timestamp": 1629433403109,
     "user": {
      "displayName": "20_PF013신정열",
      "photoUrl": "",
      "userId": "17568906488684043814"
     },
     "user_tz": -540
    },
    "id": "JiOG_8y8yJSR",
    "outputId": "95cab20d-798a-4ac4-b52b-9ebb3dfcc5d5"
   },
   "outputs": [
    {
     "data": {
      "text/plain": [
       "(3, 1)"
      ]
     },
     "execution_count": 14,
     "metadata": {},
     "output_type": "execute_result"
    }
   ],
   "source": [
    "grad(x, w, y).shape"
   ]
  },
  {
   "cell_type": "code",
   "execution_count": 14,
   "metadata": {
    "executionInfo": {
     "elapsed": 315,
     "status": "ok",
     "timestamp": 1629436423800,
     "user": {
      "displayName": "20_PF013신정열",
      "photoUrl": "",
      "userId": "17568906488684043814"
     },
     "user_tz": -540
    },
    "id": "m_jsF8byyyvm"
   },
   "outputs": [],
   "source": [
    "class LogisticRegression:\n",
    "    def __init__(self, data, learning_rate=0.01, epochs=2000):\n",
    "        self.x = np.concatenate((data, np.ones((17, 1))), axis=1)\n",
    "        self.y = np.concatenate((np.ones((8, )), np.zeros((9))))[..., np.newaxis]\n",
    "        self.m = len(self.x)\n",
    "        \n",
    "        self.w = w = np.zeros((3, 1))\n",
    "\n",
    "        self.lr = learning_rate\n",
    "        self.epochs = epochs\n",
    "    \n",
    "    def sigmoid(self, x, w):\n",
    "        z = np.dot(x, w)\n",
    "        y = 1 / (1 + np.exp(-z))\n",
    "        return y\n",
    "    \n",
    "    def pred(self, x, w):\n",
    "        return (self.sigmoid(x, w) > 0.5).astype(np.float32)\n",
    "\n",
    "    def loss(self, x, w, y):\n",
    "        loss = - y * np.dot(x, w) + np.log(1 + np.exp(np.dot(x, w)))\n",
    "        return np.sum(loss) / self.m\n",
    "    \n",
    "    def accuracy(self, y_hat, y):\n",
    "        return np.sum(y == y_hat) / self.m\n",
    "\n",
    "    def grad(self, x, w, y):\n",
    "        grad = - x * (y - self.sigmoid(x, w))\n",
    "        return np.sum(grad, axis=0)[..., np.newaxis]\n",
    "\n",
    "    def train(self):\n",
    "        for i in range(1, self.epochs + 1):\n",
    "            grad = self.grad(self.x, self.w, self.y)\n",
    "            self.w -= self.lr * grad\n",
    "\n",
    "            if i % 100 == 0:\n",
    "                loss = self.loss(self.x, self.w, self.y)\n",
    "                acc = self.accuracy(self.pred(self.x, self.w), self.y)\n",
    "                print(\"EPOCH: {},  LOSS: {}, ACC: {}\".format(i, loss, acc))"
   ]
  },
  {
   "cell_type": "code",
   "execution_count": 23,
   "metadata": {
    "executionInfo": {
     "elapsed": 474,
     "status": "ok",
     "timestamp": 1629436473328,
     "user": {
      "displayName": "20_PF013신정열",
      "photoUrl": "",
      "userId": "17568906488684043814"
     },
     "user_tz": -540
    },
    "id": "AZDpdYbJ41F6"
   },
   "outputs": [],
   "source": [
    "logistic_regression = LogisticRegression(data, learning_rate=0.5)"
   ]
  },
  {
   "cell_type": "code",
   "execution_count": 24,
   "metadata": {
    "colab": {
     "base_uri": "https://localhost:8080/"
    },
    "executionInfo": {
     "elapsed": 9,
     "status": "ok",
     "timestamp": 1629436474288,
     "user": {
      "displayName": "20_PF013신정열",
      "photoUrl": "",
      "userId": "17568906488684043814"
     },
     "user_tz": -540
    },
    "id": "98dtaYw65GiI",
    "outputId": "35c4ed00-d5a8-4da7-f4ce-8584192b3071"
   },
   "outputs": [
    {
     "name": "stdout",
     "output_type": "stream",
     "text": [
      "EPOCH: 100,  LOSS: 0.5418456263203183, ACC: 0.7058823529411765\n",
      "EPOCH: 200,  LOSS: 0.5108927548418888, ACC: 0.7058823529411765\n",
      "EPOCH: 300,  LOSS: 0.5108138881412364, ACC: 0.7058823529411765\n",
      "EPOCH: 400,  LOSS: 0.5108051238986269, ACC: 0.7058823529411765\n",
      "EPOCH: 500,  LOSS: 0.5108038014819772, ACC: 0.7058823529411765\n",
      "EPOCH: 600,  LOSS: 0.5108036001104285, ACC: 0.7058823529411765\n",
      "EPOCH: 700,  LOSS: 0.5108035693384677, ACC: 0.7058823529411765\n",
      "EPOCH: 800,  LOSS: 0.5108035646296978, ACC: 0.7058823529411765\n",
      "EPOCH: 900,  LOSS: 0.5108035639087688, ACC: 0.7058823529411765\n",
      "EPOCH: 1000,  LOSS: 0.510803563798369, ACC: 0.7058823529411765\n",
      "EPOCH: 1100,  LOSS: 0.5108035637814615, ACC: 0.7058823529411765\n",
      "EPOCH: 1200,  LOSS: 0.5108035637788721, ACC: 0.7058823529411765\n",
      "EPOCH: 1300,  LOSS: 0.5108035637784755, ACC: 0.7058823529411765\n",
      "EPOCH: 1400,  LOSS: 0.5108035637784146, ACC: 0.7058823529411765\n",
      "EPOCH: 1500,  LOSS: 0.5108035637784054, ACC: 0.7058823529411765\n",
      "EPOCH: 1600,  LOSS: 0.510803563778404, ACC: 0.7058823529411765\n",
      "EPOCH: 1700,  LOSS: 0.5108035637784039, ACC: 0.7058823529411765\n",
      "EPOCH: 1800,  LOSS: 0.5108035637784037, ACC: 0.7058823529411765\n",
      "EPOCH: 1900,  LOSS: 0.5108035637784037, ACC: 0.7058823529411765\n",
      "EPOCH: 2000,  LOSS: 0.5108035637784037, ACC: 0.7058823529411765\n"
     ]
    }
   ],
   "source": [
    "logistic_regression.train()"
   ]
  },
  {
   "cell_type": "code",
   "execution_count": null,
   "metadata": {
    "id": "Py_ijzqZ8p7T"
   },
   "outputs": [],
   "source": []
  }
 ],
 "metadata": {
  "colab": {
   "authorship_tag": "ABX9TyPf3jmMUMehXFDp8D1ZhXhB",
   "collapsed_sections": [],
   "name": "practice.ipynb",
   "provenance": []
  },
  "kernelspec": {
   "display_name": "Python 3",
   "language": "python",
   "name": "python3"
  },
  "language_info": {
   "codemirror_mode": {
    "name": "ipython",
    "version": 3
   },
   "file_extension": ".py",
   "mimetype": "text/x-python",
   "name": "python",
   "nbconvert_exporter": "python",
   "pygments_lexer": "ipython3",
   "version": "3.8.3"
  }
 },
 "nbformat": 4,
 "nbformat_minor": 1
}
